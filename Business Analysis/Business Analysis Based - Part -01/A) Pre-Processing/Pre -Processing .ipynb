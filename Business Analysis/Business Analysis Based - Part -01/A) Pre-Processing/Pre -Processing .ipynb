{
 "cells": [
  {
   "cell_type": "markdown",
   "id": "e8674ea2",
   "metadata": {},
   "source": [
    "#                         BUSINESS ANALYTICS - CASE STUDY \n"
   ]
  },
  {
   "cell_type": "markdown",
   "id": "6e111be7",
   "metadata": {},
   "source": [
    "# STOCK PRICES ANALYSIS AND PREDICTIONS "
   ]
  },
  {
   "cell_type": "markdown",
   "id": "15ed709f",
   "metadata": {},
   "source": [
    "# Data Collection "
   ]
  },
  {
   "cell_type": "code",
   "execution_count": 24,
   "id": "4cc129df",
   "metadata": {},
   "outputs": [],
   "source": [
    "import pandas as pd\n",
    "import numpy as np \n"
   ]
  },
  {
   "cell_type": "code",
   "execution_count": 25,
   "id": "3839bb08",
   "metadata": {},
   "outputs": [],
   "source": [
    "sbi = pd.read_csv('Datasets/SBIN.NS.csv')"
   ]
  },
  {
   "cell_type": "code",
   "execution_count": 26,
   "id": "6fbe09a6",
   "metadata": {},
   "outputs": [
    {
     "data": {
      "text/html": [
       "<div>\n",
       "<style scoped>\n",
       "    .dataframe tbody tr th:only-of-type {\n",
       "        vertical-align: middle;\n",
       "    }\n",
       "\n",
       "    .dataframe tbody tr th {\n",
       "        vertical-align: top;\n",
       "    }\n",
       "\n",
       "    .dataframe thead th {\n",
       "        text-align: right;\n",
       "    }\n",
       "</style>\n",
       "<table border=\"1\" class=\"dataframe\">\n",
       "  <thead>\n",
       "    <tr style=\"text-align: right;\">\n",
       "      <th></th>\n",
       "      <th>Date</th>\n",
       "      <th>Open</th>\n",
       "      <th>High</th>\n",
       "      <th>Low</th>\n",
       "      <th>Close</th>\n",
       "      <th>Adj Close</th>\n",
       "      <th>Volume</th>\n",
       "    </tr>\n",
       "  </thead>\n",
       "  <tbody>\n",
       "    <tr>\n",
       "      <th>0</th>\n",
       "      <td>2023-03-29</td>\n",
       "      <td>509.000000</td>\n",
       "      <td>518.000000</td>\n",
       "      <td>506.299988</td>\n",
       "      <td>516.500000</td>\n",
       "      <td>506.654419</td>\n",
       "      <td>24203789</td>\n",
       "    </tr>\n",
       "    <tr>\n",
       "      <th>1</th>\n",
       "      <td>2023-03-31</td>\n",
       "      <td>520.650024</td>\n",
       "      <td>524.900024</td>\n",
       "      <td>519.349976</td>\n",
       "      <td>523.750000</td>\n",
       "      <td>513.766235</td>\n",
       "      <td>17356345</td>\n",
       "    </tr>\n",
       "    <tr>\n",
       "      <th>2</th>\n",
       "      <td>2023-04-03</td>\n",
       "      <td>524.750000</td>\n",
       "      <td>528.500000</td>\n",
       "      <td>522.099976</td>\n",
       "      <td>526.750000</td>\n",
       "      <td>516.709045</td>\n",
       "      <td>14210949</td>\n",
       "    </tr>\n",
       "    <tr>\n",
       "      <th>3</th>\n",
       "      <td>2023-04-05</td>\n",
       "      <td>527.000000</td>\n",
       "      <td>527.599976</td>\n",
       "      <td>519.049988</td>\n",
       "      <td>523.000000</td>\n",
       "      <td>513.030518</td>\n",
       "      <td>13574801</td>\n",
       "    </tr>\n",
       "    <tr>\n",
       "      <th>4</th>\n",
       "      <td>2023-04-06</td>\n",
       "      <td>524.000000</td>\n",
       "      <td>533.700012</td>\n",
       "      <td>521.650024</td>\n",
       "      <td>527.650024</td>\n",
       "      <td>517.591919</td>\n",
       "      <td>25125879</td>\n",
       "    </tr>\n",
       "    <tr>\n",
       "      <th>...</th>\n",
       "      <td>...</td>\n",
       "      <td>...</td>\n",
       "      <td>...</td>\n",
       "      <td>...</td>\n",
       "      <td>...</td>\n",
       "      <td>...</td>\n",
       "      <td>...</td>\n",
       "    </tr>\n",
       "    <tr>\n",
       "      <th>240</th>\n",
       "      <td>2024-03-21</td>\n",
       "      <td>742.000000</td>\n",
       "      <td>750.599976</td>\n",
       "      <td>740.549988</td>\n",
       "      <td>744.299988</td>\n",
       "      <td>744.299988</td>\n",
       "      <td>15161161</td>\n",
       "    </tr>\n",
       "    <tr>\n",
       "      <th>241</th>\n",
       "      <td>2024-03-22</td>\n",
       "      <td>743.849976</td>\n",
       "      <td>748.799988</td>\n",
       "      <td>741.400024</td>\n",
       "      <td>746.700012</td>\n",
       "      <td>746.700012</td>\n",
       "      <td>15535921</td>\n",
       "    </tr>\n",
       "    <tr>\n",
       "      <th>242</th>\n",
       "      <td>2024-03-26</td>\n",
       "      <td>743.049988</td>\n",
       "      <td>747.849976</td>\n",
       "      <td>738.500000</td>\n",
       "      <td>740.049988</td>\n",
       "      <td>740.049988</td>\n",
       "      <td>14678342</td>\n",
       "    </tr>\n",
       "    <tr>\n",
       "      <th>243</th>\n",
       "      <td>2024-03-27</td>\n",
       "      <td>743.000000</td>\n",
       "      <td>745.849976</td>\n",
       "      <td>730.200012</td>\n",
       "      <td>733.299988</td>\n",
       "      <td>733.299988</td>\n",
       "      <td>30088789</td>\n",
       "    </tr>\n",
       "    <tr>\n",
       "      <th>244</th>\n",
       "      <td>2024-03-28</td>\n",
       "      <td>737.750000</td>\n",
       "      <td>759.549988</td>\n",
       "      <td>736.900024</td>\n",
       "      <td>752.349976</td>\n",
       "      <td>752.349976</td>\n",
       "      <td>21705116</td>\n",
       "    </tr>\n",
       "  </tbody>\n",
       "</table>\n",
       "<p>245 rows × 7 columns</p>\n",
       "</div>"
      ],
      "text/plain": [
       "           Date        Open        High         Low       Close   Adj Close  \\\n",
       "0    2023-03-29  509.000000  518.000000  506.299988  516.500000  506.654419   \n",
       "1    2023-03-31  520.650024  524.900024  519.349976  523.750000  513.766235   \n",
       "2    2023-04-03  524.750000  528.500000  522.099976  526.750000  516.709045   \n",
       "3    2023-04-05  527.000000  527.599976  519.049988  523.000000  513.030518   \n",
       "4    2023-04-06  524.000000  533.700012  521.650024  527.650024  517.591919   \n",
       "..          ...         ...         ...         ...         ...         ...   \n",
       "240  2024-03-21  742.000000  750.599976  740.549988  744.299988  744.299988   \n",
       "241  2024-03-22  743.849976  748.799988  741.400024  746.700012  746.700012   \n",
       "242  2024-03-26  743.049988  747.849976  738.500000  740.049988  740.049988   \n",
       "243  2024-03-27  743.000000  745.849976  730.200012  733.299988  733.299988   \n",
       "244  2024-03-28  737.750000  759.549988  736.900024  752.349976  752.349976   \n",
       "\n",
       "       Volume  \n",
       "0    24203789  \n",
       "1    17356345  \n",
       "2    14210949  \n",
       "3    13574801  \n",
       "4    25125879  \n",
       "..        ...  \n",
       "240  15161161  \n",
       "241  15535921  \n",
       "242  14678342  \n",
       "243  30088789  \n",
       "244  21705116  \n",
       "\n",
       "[245 rows x 7 columns]"
      ]
     },
     "execution_count": 26,
     "metadata": {},
     "output_type": "execute_result"
    }
   ],
   "source": [
    "sbi"
   ]
  },
  {
   "cell_type": "code",
   "execution_count": 45,
   "id": "5ed71577",
   "metadata": {},
   "outputs": [
    {
     "data": {
      "text/html": [
       "<div>\n",
       "<style scoped>\n",
       "    .dataframe tbody tr th:only-of-type {\n",
       "        vertical-align: middle;\n",
       "    }\n",
       "\n",
       "    .dataframe tbody tr th {\n",
       "        vertical-align: top;\n",
       "    }\n",
       "\n",
       "    .dataframe thead th {\n",
       "        text-align: right;\n",
       "    }\n",
       "</style>\n",
       "<table border=\"1\" class=\"dataframe\">\n",
       "  <thead>\n",
       "    <tr style=\"text-align: right;\">\n",
       "      <th></th>\n",
       "      <th>Date</th>\n",
       "      <th>Open</th>\n",
       "      <th>High</th>\n",
       "      <th>Low</th>\n",
       "      <th>Close</th>\n",
       "      <th>Adj Close</th>\n",
       "      <th>Volume</th>\n",
       "    </tr>\n",
       "  </thead>\n",
       "  <tbody>\n",
       "    <tr>\n",
       "      <th>0</th>\n",
       "      <td>2023-03-29</td>\n",
       "      <td>50.250000</td>\n",
       "      <td>51.750000</td>\n",
       "      <td>49.599998</td>\n",
       "      <td>51.250000</td>\n",
       "      <td>51.250000</td>\n",
       "      <td>41464387</td>\n",
       "    </tr>\n",
       "    <tr>\n",
       "      <th>1</th>\n",
       "      <td>2023-03-31</td>\n",
       "      <td>51.250000</td>\n",
       "      <td>51.700001</td>\n",
       "      <td>50.650002</td>\n",
       "      <td>51.000000</td>\n",
       "      <td>51.000000</td>\n",
       "      <td>56566133</td>\n",
       "    </tr>\n",
       "    <tr>\n",
       "      <th>2</th>\n",
       "      <td>2023-04-03</td>\n",
       "      <td>51.500000</td>\n",
       "      <td>52.150002</td>\n",
       "      <td>50.900002</td>\n",
       "      <td>51.950001</td>\n",
       "      <td>51.950001</td>\n",
       "      <td>29241512</td>\n",
       "    </tr>\n",
       "    <tr>\n",
       "      <th>3</th>\n",
       "      <td>2023-04-05</td>\n",
       "      <td>52.099998</td>\n",
       "      <td>52.900002</td>\n",
       "      <td>51.549999</td>\n",
       "      <td>51.700001</td>\n",
       "      <td>51.700001</td>\n",
       "      <td>25497115</td>\n",
       "    </tr>\n",
       "    <tr>\n",
       "      <th>4</th>\n",
       "      <td>2023-04-06</td>\n",
       "      <td>51.750000</td>\n",
       "      <td>52.450001</td>\n",
       "      <td>51.299999</td>\n",
       "      <td>52.150002</td>\n",
       "      <td>52.150002</td>\n",
       "      <td>19695678</td>\n",
       "    </tr>\n",
       "    <tr>\n",
       "      <th>...</th>\n",
       "      <td>...</td>\n",
       "      <td>...</td>\n",
       "      <td>...</td>\n",
       "      <td>...</td>\n",
       "      <td>...</td>\n",
       "      <td>...</td>\n",
       "      <td>...</td>\n",
       "    </tr>\n",
       "    <tr>\n",
       "      <th>240</th>\n",
       "      <td>2024-03-21</td>\n",
       "      <td>168.000000</td>\n",
       "      <td>171.000000</td>\n",
       "      <td>166.399994</td>\n",
       "      <td>169.649994</td>\n",
       "      <td>169.649994</td>\n",
       "      <td>42227967</td>\n",
       "    </tr>\n",
       "    <tr>\n",
       "      <th>241</th>\n",
       "      <td>2024-03-22</td>\n",
       "      <td>170.449997</td>\n",
       "      <td>174.899994</td>\n",
       "      <td>169.050003</td>\n",
       "      <td>174.199997</td>\n",
       "      <td>174.199997</td>\n",
       "      <td>41776494</td>\n",
       "    </tr>\n",
       "    <tr>\n",
       "      <th>242</th>\n",
       "      <td>2024-03-26</td>\n",
       "      <td>173.399994</td>\n",
       "      <td>183.649994</td>\n",
       "      <td>172.199997</td>\n",
       "      <td>182.600006</td>\n",
       "      <td>182.600006</td>\n",
       "      <td>64590292</td>\n",
       "    </tr>\n",
       "    <tr>\n",
       "      <th>243</th>\n",
       "      <td>2024-03-27</td>\n",
       "      <td>183.600006</td>\n",
       "      <td>189.000000</td>\n",
       "      <td>177.199997</td>\n",
       "      <td>179.449997</td>\n",
       "      <td>179.449997</td>\n",
       "      <td>50528769</td>\n",
       "    </tr>\n",
       "    <tr>\n",
       "      <th>244</th>\n",
       "      <td>2024-03-28</td>\n",
       "      <td>179.800003</td>\n",
       "      <td>184.699997</td>\n",
       "      <td>176.000000</td>\n",
       "      <td>182.100006</td>\n",
       "      <td>182.100006</td>\n",
       "      <td>42567446</td>\n",
       "    </tr>\n",
       "  </tbody>\n",
       "</table>\n",
       "<p>245 rows × 7 columns</p>\n",
       "</div>"
      ],
      "text/plain": [
       "           Date        Open        High         Low       Close   Adj Close  \\\n",
       "0    2023-03-29   50.250000   51.750000   49.599998   51.250000   51.250000   \n",
       "1    2023-03-31   51.250000   51.700001   50.650002   51.000000   51.000000   \n",
       "2    2023-04-03   51.500000   52.150002   50.900002   51.950001   51.950001   \n",
       "3    2023-04-05   52.099998   52.900002   51.549999   51.700001   51.700001   \n",
       "4    2023-04-06   51.750000   52.450001   51.299999   52.150002   52.150002   \n",
       "..          ...         ...         ...         ...         ...         ...   \n",
       "240  2024-03-21  168.000000  171.000000  166.399994  169.649994  169.649994   \n",
       "241  2024-03-22  170.449997  174.899994  169.050003  174.199997  174.199997   \n",
       "242  2024-03-26  173.399994  183.649994  172.199997  182.600006  182.600006   \n",
       "243  2024-03-27  183.600006  189.000000  177.199997  179.449997  179.449997   \n",
       "244  2024-03-28  179.800003  184.699997  176.000000  182.100006  182.100006   \n",
       "\n",
       "       Volume  \n",
       "0    41464387  \n",
       "1    56566133  \n",
       "2    29241512  \n",
       "3    25497115  \n",
       "4    19695678  \n",
       "..        ...  \n",
       "240  42227967  \n",
       "241  41776494  \n",
       "242  64590292  \n",
       "243  50528769  \n",
       "244  42567446  \n",
       "\n",
       "[245 rows x 7 columns]"
      ]
     },
     "execution_count": 45,
     "metadata": {},
     "output_type": "execute_result"
    }
   ],
   "source": [
    "zom = pd.read_csv('Datasets/ZOMATO.NS.csv')\n",
    "zom"
   ]
  },
  {
   "cell_type": "code",
   "execution_count": 47,
   "id": "47a95adb",
   "metadata": {},
   "outputs": [
    {
     "data": {
      "text/html": [
       "<div>\n",
       "<style scoped>\n",
       "    .dataframe tbody tr th:only-of-type {\n",
       "        vertical-align: middle;\n",
       "    }\n",
       "\n",
       "    .dataframe tbody tr th {\n",
       "        vertical-align: top;\n",
       "    }\n",
       "\n",
       "    .dataframe thead th {\n",
       "        text-align: right;\n",
       "    }\n",
       "</style>\n",
       "<table border=\"1\" class=\"dataframe\">\n",
       "  <thead>\n",
       "    <tr style=\"text-align: right;\">\n",
       "      <th></th>\n",
       "      <th>Date</th>\n",
       "      <th>Open</th>\n",
       "      <th>High</th>\n",
       "      <th>Low</th>\n",
       "      <th>Close</th>\n",
       "      <th>Adj Close</th>\n",
       "      <th>Volume</th>\n",
       "    </tr>\n",
       "  </thead>\n",
       "  <tbody>\n",
       "    <tr>\n",
       "      <th>0</th>\n",
       "      <td>2023-03-29</td>\n",
       "      <td>3129.000000</td>\n",
       "      <td>3150.000000</td>\n",
       "      <td>3104.100098</td>\n",
       "      <td>3138.899902</td>\n",
       "      <td>3085.330078</td>\n",
       "      <td>1740616</td>\n",
       "    </tr>\n",
       "    <tr>\n",
       "      <th>1</th>\n",
       "      <td>2023-03-31</td>\n",
       "      <td>3189.949951</td>\n",
       "      <td>3213.000000</td>\n",
       "      <td>3152.000000</td>\n",
       "      <td>3205.899902</td>\n",
       "      <td>3151.186768</td>\n",
       "      <td>2382581</td>\n",
       "    </tr>\n",
       "    <tr>\n",
       "      <th>2</th>\n",
       "      <td>2023-04-03</td>\n",
       "      <td>3224.949951</td>\n",
       "      <td>3224.949951</td>\n",
       "      <td>3173.750000</td>\n",
       "      <td>3200.000000</td>\n",
       "      <td>3145.387451</td>\n",
       "      <td>1521830</td>\n",
       "    </tr>\n",
       "    <tr>\n",
       "      <th>3</th>\n",
       "      <td>2023-04-05</td>\n",
       "      <td>3185.500000</td>\n",
       "      <td>3264.350098</td>\n",
       "      <td>3185.500000</td>\n",
       "      <td>3239.800049</td>\n",
       "      <td>3184.508057</td>\n",
       "      <td>2655065</td>\n",
       "    </tr>\n",
       "    <tr>\n",
       "      <th>4</th>\n",
       "      <td>2023-04-06</td>\n",
       "      <td>3225.000000</td>\n",
       "      <td>3257.350098</td>\n",
       "      <td>3215.000000</td>\n",
       "      <td>3220.699951</td>\n",
       "      <td>3165.733887</td>\n",
       "      <td>1703464</td>\n",
       "    </tr>\n",
       "    <tr>\n",
       "      <th>...</th>\n",
       "      <td>...</td>\n",
       "      <td>...</td>\n",
       "      <td>...</td>\n",
       "      <td>...</td>\n",
       "      <td>...</td>\n",
       "      <td>...</td>\n",
       "      <td>...</td>\n",
       "    </tr>\n",
       "    <tr>\n",
       "      <th>240</th>\n",
       "      <td>2024-03-21</td>\n",
       "      <td>3990.050049</td>\n",
       "      <td>4008.399902</td>\n",
       "      <td>3948.000000</td>\n",
       "      <td>3972.949951</td>\n",
       "      <td>3972.949951</td>\n",
       "      <td>3829582</td>\n",
       "    </tr>\n",
       "    <tr>\n",
       "      <th>241</th>\n",
       "      <td>2024-03-22</td>\n",
       "      <td>3897.000000</td>\n",
       "      <td>3938.000000</td>\n",
       "      <td>3855.000000</td>\n",
       "      <td>3910.899902</td>\n",
       "      <td>3910.899902</td>\n",
       "      <td>5852485</td>\n",
       "    </tr>\n",
       "    <tr>\n",
       "      <th>242</th>\n",
       "      <td>2024-03-26</td>\n",
       "      <td>3875.000000</td>\n",
       "      <td>3946.699951</td>\n",
       "      <td>3871.449951</td>\n",
       "      <td>3877.500000</td>\n",
       "      <td>3877.500000</td>\n",
       "      <td>3440925</td>\n",
       "    </tr>\n",
       "    <tr>\n",
       "      <th>243</th>\n",
       "      <td>2024-03-27</td>\n",
       "      <td>3888.500000</td>\n",
       "      <td>3895.000000</td>\n",
       "      <td>3829.399902</td>\n",
       "      <td>3840.899902</td>\n",
       "      <td>3840.899902</td>\n",
       "      <td>1968575</td>\n",
       "    </tr>\n",
       "    <tr>\n",
       "      <th>244</th>\n",
       "      <td>2024-03-28</td>\n",
       "      <td>3850.100098</td>\n",
       "      <td>3915.000000</td>\n",
       "      <td>3840.500000</td>\n",
       "      <td>3876.300049</td>\n",
       "      <td>3876.300049</td>\n",
       "      <td>4311783</td>\n",
       "    </tr>\n",
       "  </tbody>\n",
       "</table>\n",
       "<p>245 rows × 7 columns</p>\n",
       "</div>"
      ],
      "text/plain": [
       "           Date         Open         High          Low        Close  \\\n",
       "0    2023-03-29  3129.000000  3150.000000  3104.100098  3138.899902   \n",
       "1    2023-03-31  3189.949951  3213.000000  3152.000000  3205.899902   \n",
       "2    2023-04-03  3224.949951  3224.949951  3173.750000  3200.000000   \n",
       "3    2023-04-05  3185.500000  3264.350098  3185.500000  3239.800049   \n",
       "4    2023-04-06  3225.000000  3257.350098  3215.000000  3220.699951   \n",
       "..          ...          ...          ...          ...          ...   \n",
       "240  2024-03-21  3990.050049  4008.399902  3948.000000  3972.949951   \n",
       "241  2024-03-22  3897.000000  3938.000000  3855.000000  3910.899902   \n",
       "242  2024-03-26  3875.000000  3946.699951  3871.449951  3877.500000   \n",
       "243  2024-03-27  3888.500000  3895.000000  3829.399902  3840.899902   \n",
       "244  2024-03-28  3850.100098  3915.000000  3840.500000  3876.300049   \n",
       "\n",
       "       Adj Close   Volume  \n",
       "0    3085.330078  1740616  \n",
       "1    3151.186768  2382581  \n",
       "2    3145.387451  1521830  \n",
       "3    3184.508057  2655065  \n",
       "4    3165.733887  1703464  \n",
       "..           ...      ...  \n",
       "240  3972.949951  3829582  \n",
       "241  3910.899902  5852485  \n",
       "242  3877.500000  3440925  \n",
       "243  3840.899902  1968575  \n",
       "244  3876.300049  4311783  \n",
       "\n",
       "[245 rows x 7 columns]"
      ]
     },
     "execution_count": 47,
     "metadata": {},
     "output_type": "execute_result"
    }
   ],
   "source": [
    "tcs = pd.read_csv('Datasets/TCS.NS.csv')\n",
    "tcs"
   ]
  },
  {
   "cell_type": "code",
   "execution_count": 49,
   "id": "16a7f018",
   "metadata": {},
   "outputs": [
    {
     "data": {
      "text/html": [
       "<div>\n",
       "<style scoped>\n",
       "    .dataframe tbody tr th:only-of-type {\n",
       "        vertical-align: middle;\n",
       "    }\n",
       "\n",
       "    .dataframe tbody tr th {\n",
       "        vertical-align: top;\n",
       "    }\n",
       "\n",
       "    .dataframe thead th {\n",
       "        text-align: right;\n",
       "    }\n",
       "</style>\n",
       "<table border=\"1\" class=\"dataframe\">\n",
       "  <thead>\n",
       "    <tr style=\"text-align: right;\">\n",
       "      <th></th>\n",
       "      <th>Date</th>\n",
       "      <th>Open</th>\n",
       "      <th>High</th>\n",
       "      <th>Low</th>\n",
       "      <th>Close</th>\n",
       "      <th>Adj Close</th>\n",
       "      <th>Volume</th>\n",
       "    </tr>\n",
       "  </thead>\n",
       "  <tbody>\n",
       "    <tr>\n",
       "      <th>0</th>\n",
       "      <td>2023-03-29</td>\n",
       "      <td>1133.949951</td>\n",
       "      <td>1152.449951</td>\n",
       "      <td>1132.000000</td>\n",
       "      <td>1144.300049</td>\n",
       "      <td>1132.432739</td>\n",
       "      <td>4003003</td>\n",
       "    </tr>\n",
       "    <tr>\n",
       "      <th>1</th>\n",
       "      <td>2023-03-31</td>\n",
       "      <td>1147.599976</td>\n",
       "      <td>1163.000000</td>\n",
       "      <td>1145.849976</td>\n",
       "      <td>1158.699951</td>\n",
       "      <td>1146.683350</td>\n",
       "      <td>2343070</td>\n",
       "    </tr>\n",
       "    <tr>\n",
       "      <th>2</th>\n",
       "      <td>2023-04-03</td>\n",
       "      <td>1161.300049</td>\n",
       "      <td>1180.000000</td>\n",
       "      <td>1155.300049</td>\n",
       "      <td>1169.900024</td>\n",
       "      <td>1157.767212</td>\n",
       "      <td>2546562</td>\n",
       "    </tr>\n",
       "    <tr>\n",
       "      <th>3</th>\n",
       "      <td>2023-04-05</td>\n",
       "      <td>1172.000000</td>\n",
       "      <td>1173.300049</td>\n",
       "      <td>1151.949951</td>\n",
       "      <td>1155.449951</td>\n",
       "      <td>1143.467041</td>\n",
       "      <td>2028469</td>\n",
       "    </tr>\n",
       "    <tr>\n",
       "      <th>4</th>\n",
       "      <td>2023-04-06</td>\n",
       "      <td>1154.000000</td>\n",
       "      <td>1175.000000</td>\n",
       "      <td>1148.300049</td>\n",
       "      <td>1171.250000</td>\n",
       "      <td>1159.103271</td>\n",
       "      <td>2029418</td>\n",
       "    </tr>\n",
       "    <tr>\n",
       "      <th>...</th>\n",
       "      <td>...</td>\n",
       "      <td>...</td>\n",
       "      <td>...</td>\n",
       "      <td>...</td>\n",
       "      <td>...</td>\n",
       "      <td>...</td>\n",
       "      <td>...</td>\n",
       "    </tr>\n",
       "    <tr>\n",
       "      <th>240</th>\n",
       "      <td>2024-03-21</td>\n",
       "      <td>1859.949951</td>\n",
       "      <td>1875.000000</td>\n",
       "      <td>1845.000000</td>\n",
       "      <td>1865.849976</td>\n",
       "      <td>1865.849976</td>\n",
       "      <td>2072960</td>\n",
       "    </tr>\n",
       "    <tr>\n",
       "      <th>241</th>\n",
       "      <td>2024-03-22</td>\n",
       "      <td>1865.849976</td>\n",
       "      <td>1905.449951</td>\n",
       "      <td>1847.250000</td>\n",
       "      <td>1878.800049</td>\n",
       "      <td>1878.800049</td>\n",
       "      <td>3786990</td>\n",
       "    </tr>\n",
       "    <tr>\n",
       "      <th>242</th>\n",
       "      <td>2024-03-26</td>\n",
       "      <td>1878.199951</td>\n",
       "      <td>1917.500000</td>\n",
       "      <td>1861.099976</td>\n",
       "      <td>1863.949951</td>\n",
       "      <td>1863.949951</td>\n",
       "      <td>4092744</td>\n",
       "    </tr>\n",
       "    <tr>\n",
       "      <th>243</th>\n",
       "      <td>2024-03-27</td>\n",
       "      <td>1869.900024</td>\n",
       "      <td>1899.900024</td>\n",
       "      <td>1855.300049</td>\n",
       "      <td>1881.150024</td>\n",
       "      <td>1881.150024</td>\n",
       "      <td>4196597</td>\n",
       "    </tr>\n",
       "    <tr>\n",
       "      <th>244</th>\n",
       "      <td>2024-03-28</td>\n",
       "      <td>1881.150024</td>\n",
       "      <td>1962.949951</td>\n",
       "      <td>1870.349976</td>\n",
       "      <td>1921.349976</td>\n",
       "      <td>1921.349976</td>\n",
       "      <td>3790854</td>\n",
       "    </tr>\n",
       "  </tbody>\n",
       "</table>\n",
       "<p>245 rows × 7 columns</p>\n",
       "</div>"
      ],
      "text/plain": [
       "           Date         Open         High          Low        Close  \\\n",
       "0    2023-03-29  1133.949951  1152.449951  1132.000000  1144.300049   \n",
       "1    2023-03-31  1147.599976  1163.000000  1145.849976  1158.699951   \n",
       "2    2023-04-03  1161.300049  1180.000000  1155.300049  1169.900024   \n",
       "3    2023-04-05  1172.000000  1173.300049  1151.949951  1155.449951   \n",
       "4    2023-04-06  1154.000000  1175.000000  1148.300049  1171.250000   \n",
       "..          ...          ...          ...          ...          ...   \n",
       "240  2024-03-21  1859.949951  1875.000000  1845.000000  1865.849976   \n",
       "241  2024-03-22  1865.849976  1905.449951  1847.250000  1878.800049   \n",
       "242  2024-03-26  1878.199951  1917.500000  1861.099976  1863.949951   \n",
       "243  2024-03-27  1869.900024  1899.900024  1855.300049  1881.150024   \n",
       "244  2024-03-28  1881.150024  1962.949951  1870.349976  1921.349976   \n",
       "\n",
       "       Adj Close   Volume  \n",
       "0    1132.432739  4003003  \n",
       "1    1146.683350  2343070  \n",
       "2    1157.767212  2546562  \n",
       "3    1143.467041  2028469  \n",
       "4    1159.103271  2029418  \n",
       "..           ...      ...  \n",
       "240  1865.849976  2072960  \n",
       "241  1878.800049  3786990  \n",
       "242  1863.949951  4092744  \n",
       "243  1881.150024  4196597  \n",
       "244  1921.349976  3790854  \n",
       "\n",
       "[245 rows x 7 columns]"
      ]
     },
     "execution_count": 49,
     "metadata": {},
     "output_type": "execute_result"
    }
   ],
   "source": [
    "mm = pd.read_csv('Datasets/M&M.NS.csv')\n",
    "mm"
   ]
  },
  {
   "cell_type": "code",
   "execution_count": 27,
   "id": "505812ee",
   "metadata": {
    "scrolled": true
   },
   "outputs": [
    {
     "data": {
      "text/html": [
       "<div>\n",
       "<style scoped>\n",
       "    .dataframe tbody tr th:only-of-type {\n",
       "        vertical-align: middle;\n",
       "    }\n",
       "\n",
       "    .dataframe tbody tr th {\n",
       "        vertical-align: top;\n",
       "    }\n",
       "\n",
       "    .dataframe thead th {\n",
       "        text-align: right;\n",
       "    }\n",
       "</style>\n",
       "<table border=\"1\" class=\"dataframe\">\n",
       "  <thead>\n",
       "    <tr style=\"text-align: right;\">\n",
       "      <th></th>\n",
       "      <th>0</th>\n",
       "    </tr>\n",
       "  </thead>\n",
       "  <tbody>\n",
       "    <tr>\n",
       "      <th>Date</th>\n",
       "      <td>object</td>\n",
       "    </tr>\n",
       "    <tr>\n",
       "      <th>Open</th>\n",
       "      <td>float64</td>\n",
       "    </tr>\n",
       "    <tr>\n",
       "      <th>High</th>\n",
       "      <td>float64</td>\n",
       "    </tr>\n",
       "    <tr>\n",
       "      <th>Low</th>\n",
       "      <td>float64</td>\n",
       "    </tr>\n",
       "    <tr>\n",
       "      <th>Close</th>\n",
       "      <td>float64</td>\n",
       "    </tr>\n",
       "    <tr>\n",
       "      <th>Adj Close</th>\n",
       "      <td>float64</td>\n",
       "    </tr>\n",
       "    <tr>\n",
       "      <th>Volume</th>\n",
       "      <td>int64</td>\n",
       "    </tr>\n",
       "  </tbody>\n",
       "</table>\n",
       "</div>"
      ],
      "text/plain": [
       "                 0\n",
       "Date        object\n",
       "Open       float64\n",
       "High       float64\n",
       "Low        float64\n",
       "Close      float64\n",
       "Adj Close  float64\n",
       "Volume       int64"
      ]
     },
     "execution_count": 27,
     "metadata": {},
     "output_type": "execute_result"
    }
   ],
   "source": [
    "# Checking Data Types \n",
    "sbi.dtypes.to_frame()"
   ]
  },
  {
   "cell_type": "code",
   "execution_count": 50,
   "id": "84020078",
   "metadata": {},
   "outputs": [
    {
     "data": {
      "text/html": [
       "<div>\n",
       "<style scoped>\n",
       "    .dataframe tbody tr th:only-of-type {\n",
       "        vertical-align: middle;\n",
       "    }\n",
       "\n",
       "    .dataframe tbody tr th {\n",
       "        vertical-align: top;\n",
       "    }\n",
       "\n",
       "    .dataframe thead th {\n",
       "        text-align: right;\n",
       "    }\n",
       "</style>\n",
       "<table border=\"1\" class=\"dataframe\">\n",
       "  <thead>\n",
       "    <tr style=\"text-align: right;\">\n",
       "      <th></th>\n",
       "      <th>0</th>\n",
       "    </tr>\n",
       "  </thead>\n",
       "  <tbody>\n",
       "    <tr>\n",
       "      <th>Date</th>\n",
       "      <td>object</td>\n",
       "    </tr>\n",
       "    <tr>\n",
       "      <th>Open</th>\n",
       "      <td>float64</td>\n",
       "    </tr>\n",
       "    <tr>\n",
       "      <th>High</th>\n",
       "      <td>float64</td>\n",
       "    </tr>\n",
       "    <tr>\n",
       "      <th>Low</th>\n",
       "      <td>float64</td>\n",
       "    </tr>\n",
       "    <tr>\n",
       "      <th>Close</th>\n",
       "      <td>float64</td>\n",
       "    </tr>\n",
       "    <tr>\n",
       "      <th>Adj Close</th>\n",
       "      <td>float64</td>\n",
       "    </tr>\n",
       "    <tr>\n",
       "      <th>Volume</th>\n",
       "      <td>int64</td>\n",
       "    </tr>\n",
       "  </tbody>\n",
       "</table>\n",
       "</div>"
      ],
      "text/plain": [
       "                 0\n",
       "Date        object\n",
       "Open       float64\n",
       "High       float64\n",
       "Low        float64\n",
       "Close      float64\n",
       "Adj Close  float64\n",
       "Volume       int64"
      ]
     },
     "execution_count": 50,
     "metadata": {},
     "output_type": "execute_result"
    }
   ],
   "source": [
    "# Checking Data Types \n",
    "tcs.dtypes.to_frame()"
   ]
  },
  {
   "cell_type": "code",
   "execution_count": 51,
   "id": "6e3cc619",
   "metadata": {},
   "outputs": [
    {
     "data": {
      "text/html": [
       "<div>\n",
       "<style scoped>\n",
       "    .dataframe tbody tr th:only-of-type {\n",
       "        vertical-align: middle;\n",
       "    }\n",
       "\n",
       "    .dataframe tbody tr th {\n",
       "        vertical-align: top;\n",
       "    }\n",
       "\n",
       "    .dataframe thead th {\n",
       "        text-align: right;\n",
       "    }\n",
       "</style>\n",
       "<table border=\"1\" class=\"dataframe\">\n",
       "  <thead>\n",
       "    <tr style=\"text-align: right;\">\n",
       "      <th></th>\n",
       "      <th>0</th>\n",
       "    </tr>\n",
       "  </thead>\n",
       "  <tbody>\n",
       "    <tr>\n",
       "      <th>Date</th>\n",
       "      <td>object</td>\n",
       "    </tr>\n",
       "    <tr>\n",
       "      <th>Open</th>\n",
       "      <td>float64</td>\n",
       "    </tr>\n",
       "    <tr>\n",
       "      <th>High</th>\n",
       "      <td>float64</td>\n",
       "    </tr>\n",
       "    <tr>\n",
       "      <th>Low</th>\n",
       "      <td>float64</td>\n",
       "    </tr>\n",
       "    <tr>\n",
       "      <th>Close</th>\n",
       "      <td>float64</td>\n",
       "    </tr>\n",
       "    <tr>\n",
       "      <th>Adj Close</th>\n",
       "      <td>float64</td>\n",
       "    </tr>\n",
       "    <tr>\n",
       "      <th>Volume</th>\n",
       "      <td>int64</td>\n",
       "    </tr>\n",
       "  </tbody>\n",
       "</table>\n",
       "</div>"
      ],
      "text/plain": [
       "                 0\n",
       "Date        object\n",
       "Open       float64\n",
       "High       float64\n",
       "Low        float64\n",
       "Close      float64\n",
       "Adj Close  float64\n",
       "Volume       int64"
      ]
     },
     "execution_count": 51,
     "metadata": {},
     "output_type": "execute_result"
    }
   ],
   "source": [
    "# Checking Data Types \n",
    "mm.dtypes.to_frame()"
   ]
  },
  {
   "cell_type": "code",
   "execution_count": 52,
   "id": "53e2b615",
   "metadata": {},
   "outputs": [
    {
     "data": {
      "text/html": [
       "<div>\n",
       "<style scoped>\n",
       "    .dataframe tbody tr th:only-of-type {\n",
       "        vertical-align: middle;\n",
       "    }\n",
       "\n",
       "    .dataframe tbody tr th {\n",
       "        vertical-align: top;\n",
       "    }\n",
       "\n",
       "    .dataframe thead th {\n",
       "        text-align: right;\n",
       "    }\n",
       "</style>\n",
       "<table border=\"1\" class=\"dataframe\">\n",
       "  <thead>\n",
       "    <tr style=\"text-align: right;\">\n",
       "      <th></th>\n",
       "      <th>0</th>\n",
       "    </tr>\n",
       "  </thead>\n",
       "  <tbody>\n",
       "    <tr>\n",
       "      <th>Date</th>\n",
       "      <td>object</td>\n",
       "    </tr>\n",
       "    <tr>\n",
       "      <th>Open</th>\n",
       "      <td>float64</td>\n",
       "    </tr>\n",
       "    <tr>\n",
       "      <th>High</th>\n",
       "      <td>float64</td>\n",
       "    </tr>\n",
       "    <tr>\n",
       "      <th>Low</th>\n",
       "      <td>float64</td>\n",
       "    </tr>\n",
       "    <tr>\n",
       "      <th>Close</th>\n",
       "      <td>float64</td>\n",
       "    </tr>\n",
       "    <tr>\n",
       "      <th>Adj Close</th>\n",
       "      <td>float64</td>\n",
       "    </tr>\n",
       "    <tr>\n",
       "      <th>Volume</th>\n",
       "      <td>int64</td>\n",
       "    </tr>\n",
       "  </tbody>\n",
       "</table>\n",
       "</div>"
      ],
      "text/plain": [
       "                 0\n",
       "Date        object\n",
       "Open       float64\n",
       "High       float64\n",
       "Low        float64\n",
       "Close      float64\n",
       "Adj Close  float64\n",
       "Volume       int64"
      ]
     },
     "execution_count": 52,
     "metadata": {},
     "output_type": "execute_result"
    }
   ],
   "source": [
    "# Checking Data Types \n",
    "zom.dtypes.to_frame()"
   ]
  },
  {
   "cell_type": "markdown",
   "id": "fa65ac74",
   "metadata": {},
   "source": [
    "# Data Preparation\n"
   ]
  },
  {
   "cell_type": "markdown",
   "id": "9b74ae86",
   "metadata": {},
   "source": [
    "# Pre-Processing"
   ]
  },
  {
   "cell_type": "markdown",
   "id": "9eb3b47f",
   "metadata": {},
   "source": [
    "## Missing Values"
   ]
  },
  {
   "cell_type": "code",
   "execution_count": 53,
   "id": "d5453cfe",
   "metadata": {},
   "outputs": [
    {
     "data": {
      "text/html": [
       "<div>\n",
       "<style scoped>\n",
       "    .dataframe tbody tr th:only-of-type {\n",
       "        vertical-align: middle;\n",
       "    }\n",
       "\n",
       "    .dataframe tbody tr th {\n",
       "        vertical-align: top;\n",
       "    }\n",
       "\n",
       "    .dataframe thead th {\n",
       "        text-align: right;\n",
       "    }\n",
       "</style>\n",
       "<table border=\"1\" class=\"dataframe\">\n",
       "  <thead>\n",
       "    <tr style=\"text-align: right;\">\n",
       "      <th></th>\n",
       "      <th>0</th>\n",
       "    </tr>\n",
       "  </thead>\n",
       "  <tbody>\n",
       "    <tr>\n",
       "      <th>Date</th>\n",
       "      <td>0</td>\n",
       "    </tr>\n",
       "    <tr>\n",
       "      <th>Open</th>\n",
       "      <td>0</td>\n",
       "    </tr>\n",
       "    <tr>\n",
       "      <th>High</th>\n",
       "      <td>0</td>\n",
       "    </tr>\n",
       "    <tr>\n",
       "      <th>Low</th>\n",
       "      <td>0</td>\n",
       "    </tr>\n",
       "    <tr>\n",
       "      <th>Close</th>\n",
       "      <td>0</td>\n",
       "    </tr>\n",
       "    <tr>\n",
       "      <th>Adj Close</th>\n",
       "      <td>0</td>\n",
       "    </tr>\n",
       "    <tr>\n",
       "      <th>Volume</th>\n",
       "      <td>0</td>\n",
       "    </tr>\n",
       "    <tr>\n",
       "      <th>missing_flag</th>\n",
       "      <td>0</td>\n",
       "    </tr>\n",
       "  </tbody>\n",
       "</table>\n",
       "</div>"
      ],
      "text/plain": [
       "              0\n",
       "Date          0\n",
       "Open          0\n",
       "High          0\n",
       "Low           0\n",
       "Close         0\n",
       "Adj Close     0\n",
       "Volume        0\n",
       "missing_flag  0"
      ]
     },
     "execution_count": 53,
     "metadata": {},
     "output_type": "execute_result"
    }
   ],
   "source": [
    "sbi.isnull().sum().to_frame()"
   ]
  },
  {
   "cell_type": "code",
   "execution_count": 29,
   "id": "ce9c4ea8",
   "metadata": {},
   "outputs": [],
   "source": [
    "sbi.dropna(inplace =True)"
   ]
  },
  {
   "cell_type": "code",
   "execution_count": 54,
   "id": "0a6a5527",
   "metadata": {},
   "outputs": [
    {
     "data": {
      "text/html": [
       "<div>\n",
       "<style scoped>\n",
       "    .dataframe tbody tr th:only-of-type {\n",
       "        vertical-align: middle;\n",
       "    }\n",
       "\n",
       "    .dataframe tbody tr th {\n",
       "        vertical-align: top;\n",
       "    }\n",
       "\n",
       "    .dataframe thead th {\n",
       "        text-align: right;\n",
       "    }\n",
       "</style>\n",
       "<table border=\"1\" class=\"dataframe\">\n",
       "  <thead>\n",
       "    <tr style=\"text-align: right;\">\n",
       "      <th></th>\n",
       "      <th>0</th>\n",
       "    </tr>\n",
       "  </thead>\n",
       "  <tbody>\n",
       "    <tr>\n",
       "      <th>Date</th>\n",
       "      <td>0</td>\n",
       "    </tr>\n",
       "    <tr>\n",
       "      <th>Open</th>\n",
       "      <td>0</td>\n",
       "    </tr>\n",
       "    <tr>\n",
       "      <th>High</th>\n",
       "      <td>0</td>\n",
       "    </tr>\n",
       "    <tr>\n",
       "      <th>Low</th>\n",
       "      <td>0</td>\n",
       "    </tr>\n",
       "    <tr>\n",
       "      <th>Close</th>\n",
       "      <td>0</td>\n",
       "    </tr>\n",
       "    <tr>\n",
       "      <th>Adj Close</th>\n",
       "      <td>0</td>\n",
       "    </tr>\n",
       "    <tr>\n",
       "      <th>Volume</th>\n",
       "      <td>0</td>\n",
       "    </tr>\n",
       "  </tbody>\n",
       "</table>\n",
       "</div>"
      ],
      "text/plain": [
       "           0\n",
       "Date       0\n",
       "Open       0\n",
       "High       0\n",
       "Low        0\n",
       "Close      0\n",
       "Adj Close  0\n",
       "Volume     0"
      ]
     },
     "execution_count": 54,
     "metadata": {},
     "output_type": "execute_result"
    }
   ],
   "source": [
    "tcs.isnull().sum().to_frame()"
   ]
  },
  {
   "cell_type": "code",
   "execution_count": 55,
   "id": "1cde6e2e",
   "metadata": {},
   "outputs": [
    {
     "data": {
      "text/html": [
       "<div>\n",
       "<style scoped>\n",
       "    .dataframe tbody tr th:only-of-type {\n",
       "        vertical-align: middle;\n",
       "    }\n",
       "\n",
       "    .dataframe tbody tr th {\n",
       "        vertical-align: top;\n",
       "    }\n",
       "\n",
       "    .dataframe thead th {\n",
       "        text-align: right;\n",
       "    }\n",
       "</style>\n",
       "<table border=\"1\" class=\"dataframe\">\n",
       "  <thead>\n",
       "    <tr style=\"text-align: right;\">\n",
       "      <th></th>\n",
       "      <th>0</th>\n",
       "    </tr>\n",
       "  </thead>\n",
       "  <tbody>\n",
       "    <tr>\n",
       "      <th>Date</th>\n",
       "      <td>0</td>\n",
       "    </tr>\n",
       "    <tr>\n",
       "      <th>Open</th>\n",
       "      <td>0</td>\n",
       "    </tr>\n",
       "    <tr>\n",
       "      <th>High</th>\n",
       "      <td>0</td>\n",
       "    </tr>\n",
       "    <tr>\n",
       "      <th>Low</th>\n",
       "      <td>0</td>\n",
       "    </tr>\n",
       "    <tr>\n",
       "      <th>Close</th>\n",
       "      <td>0</td>\n",
       "    </tr>\n",
       "    <tr>\n",
       "      <th>Adj Close</th>\n",
       "      <td>0</td>\n",
       "    </tr>\n",
       "    <tr>\n",
       "      <th>Volume</th>\n",
       "      <td>0</td>\n",
       "    </tr>\n",
       "  </tbody>\n",
       "</table>\n",
       "</div>"
      ],
      "text/plain": [
       "           0\n",
       "Date       0\n",
       "Open       0\n",
       "High       0\n",
       "Low        0\n",
       "Close      0\n",
       "Adj Close  0\n",
       "Volume     0"
      ]
     },
     "execution_count": 55,
     "metadata": {},
     "output_type": "execute_result"
    }
   ],
   "source": [
    "mm.isnull().sum().to_frame()"
   ]
  },
  {
   "cell_type": "code",
   "execution_count": 56,
   "id": "5a0b5a40",
   "metadata": {},
   "outputs": [
    {
     "data": {
      "text/html": [
       "<div>\n",
       "<style scoped>\n",
       "    .dataframe tbody tr th:only-of-type {\n",
       "        vertical-align: middle;\n",
       "    }\n",
       "\n",
       "    .dataframe tbody tr th {\n",
       "        vertical-align: top;\n",
       "    }\n",
       "\n",
       "    .dataframe thead th {\n",
       "        text-align: right;\n",
       "    }\n",
       "</style>\n",
       "<table border=\"1\" class=\"dataframe\">\n",
       "  <thead>\n",
       "    <tr style=\"text-align: right;\">\n",
       "      <th></th>\n",
       "      <th>0</th>\n",
       "    </tr>\n",
       "  </thead>\n",
       "  <tbody>\n",
       "    <tr>\n",
       "      <th>Date</th>\n",
       "      <td>0</td>\n",
       "    </tr>\n",
       "    <tr>\n",
       "      <th>Open</th>\n",
       "      <td>0</td>\n",
       "    </tr>\n",
       "    <tr>\n",
       "      <th>High</th>\n",
       "      <td>0</td>\n",
       "    </tr>\n",
       "    <tr>\n",
       "      <th>Low</th>\n",
       "      <td>0</td>\n",
       "    </tr>\n",
       "    <tr>\n",
       "      <th>Close</th>\n",
       "      <td>0</td>\n",
       "    </tr>\n",
       "    <tr>\n",
       "      <th>Adj Close</th>\n",
       "      <td>0</td>\n",
       "    </tr>\n",
       "    <tr>\n",
       "      <th>Volume</th>\n",
       "      <td>0</td>\n",
       "    </tr>\n",
       "  </tbody>\n",
       "</table>\n",
       "</div>"
      ],
      "text/plain": [
       "           0\n",
       "Date       0\n",
       "Open       0\n",
       "High       0\n",
       "Low        0\n",
       "Close      0\n",
       "Adj Close  0\n",
       "Volume     0"
      ]
     },
     "execution_count": 56,
     "metadata": {},
     "output_type": "execute_result"
    }
   ],
   "source": [
    "zom.isnull().sum().to_frame()"
   ]
  },
  {
   "cell_type": "markdown",
   "id": "b4224dad",
   "metadata": {},
   "source": [
    "## Handling Duplicates"
   ]
  },
  {
   "cell_type": "code",
   "execution_count": 57,
   "id": "6e934aed",
   "metadata": {},
   "outputs": [],
   "source": [
    "dup_sbi = sbi.duplicated()"
   ]
  },
  {
   "cell_type": "code",
   "execution_count": 58,
   "id": "5fb90808",
   "metadata": {},
   "outputs": [
    {
     "data": {
      "text/plain": [
       "0"
      ]
     },
     "execution_count": 58,
     "metadata": {},
     "output_type": "execute_result"
    }
   ],
   "source": [
    "dup_sbi.sum()"
   ]
  },
  {
   "cell_type": "code",
   "execution_count": 59,
   "id": "7e42a34f",
   "metadata": {},
   "outputs": [],
   "source": [
    "sbi.drop_duplicates(inplace =True)"
   ]
  },
  {
   "cell_type": "code",
   "execution_count": 61,
   "id": "4256fb26",
   "metadata": {},
   "outputs": [
    {
     "data": {
      "text/plain": [
       "0"
      ]
     },
     "execution_count": 61,
     "metadata": {},
     "output_type": "execute_result"
    }
   ],
   "source": [
    "dup_tcs = tcs.duplicated()\n",
    "dup_tcs.sum()"
   ]
  },
  {
   "cell_type": "code",
   "execution_count": 62,
   "id": "6bf00dbe",
   "metadata": {},
   "outputs": [
    {
     "data": {
      "text/plain": [
       "0"
      ]
     },
     "execution_count": 62,
     "metadata": {},
     "output_type": "execute_result"
    }
   ],
   "source": [
    "dup_mm = mm.duplicated()\n",
    "dup_mm.sum()"
   ]
  },
  {
   "cell_type": "code",
   "execution_count": 63,
   "id": "1d341aea",
   "metadata": {},
   "outputs": [
    {
     "data": {
      "text/plain": [
       "0"
      ]
     },
     "execution_count": 63,
     "metadata": {},
     "output_type": "execute_result"
    }
   ],
   "source": [
    "dup_zom = zom.duplicated()\n",
    "dup_zom.sum()"
   ]
  },
  {
   "cell_type": "markdown",
   "id": "cfb9c0f2",
   "metadata": {},
   "source": [
    "## Statistical analysis\n"
   ]
  },
  {
   "cell_type": "code",
   "execution_count": 66,
   "id": "49947f72",
   "metadata": {
    "scrolled": true
   },
   "outputs": [
    {
     "data": {
      "text/html": [
       "<div>\n",
       "<style scoped>\n",
       "    .dataframe tbody tr th:only-of-type {\n",
       "        vertical-align: middle;\n",
       "    }\n",
       "\n",
       "    .dataframe tbody tr th {\n",
       "        vertical-align: top;\n",
       "    }\n",
       "\n",
       "    .dataframe thead th {\n",
       "        text-align: right;\n",
       "    }\n",
       "</style>\n",
       "<table border=\"1\" class=\"dataframe\">\n",
       "  <thead>\n",
       "    <tr style=\"text-align: right;\">\n",
       "      <th></th>\n",
       "      <th>Open</th>\n",
       "      <th>High</th>\n",
       "      <th>Low</th>\n",
       "      <th>Close</th>\n",
       "      <th>Adj Close</th>\n",
       "      <th>Volume</th>\n",
       "      <th>missing_flag</th>\n",
       "    </tr>\n",
       "  </thead>\n",
       "  <tbody>\n",
       "    <tr>\n",
       "      <th>count</th>\n",
       "      <td>245.000000</td>\n",
       "      <td>245.000000</td>\n",
       "      <td>245.000000</td>\n",
       "      <td>2.450000e+02</td>\n",
       "      <td>245.000000</td>\n",
       "      <td>2.450000e+02</td>\n",
       "      <td>245.0</td>\n",
       "    </tr>\n",
       "    <tr>\n",
       "      <th>mean</th>\n",
       "      <td>610.487144</td>\n",
       "      <td>616.028980</td>\n",
       "      <td>604.899591</td>\n",
       "      <td>8.120488e-16</td>\n",
       "      <td>608.728476</td>\n",
       "      <td>2.138879e-16</td>\n",
       "      <td>0.0</td>\n",
       "    </tr>\n",
       "    <tr>\n",
       "      <th>std</th>\n",
       "      <td>62.365630</td>\n",
       "      <td>64.339029</td>\n",
       "      <td>61.093770</td>\n",
       "      <td>1.000000e+00</td>\n",
       "      <td>64.224782</td>\n",
       "      <td>1.000000e+00</td>\n",
       "      <td>0.0</td>\n",
       "    </tr>\n",
       "    <tr>\n",
       "      <th>min</th>\n",
       "      <td>509.000000</td>\n",
       "      <td>518.000000</td>\n",
       "      <td>506.299988</td>\n",
       "      <td>-1.496991e+00</td>\n",
       "      <td>506.654419</td>\n",
       "      <td>-1.377466e+00</td>\n",
       "      <td>0.0</td>\n",
       "    </tr>\n",
       "    <tr>\n",
       "      <th>25%</th>\n",
       "      <td>572.950012</td>\n",
       "      <td>575.450012</td>\n",
       "      <td>568.000000</td>\n",
       "      <td>-6.025523e-01</td>\n",
       "      <td>569.549988</td>\n",
       "      <td>-6.802108e-01</td>\n",
       "      <td>0.0</td>\n",
       "    </tr>\n",
       "    <tr>\n",
       "      <th>50%</th>\n",
       "      <td>588.400024</td>\n",
       "      <td>593.900024</td>\n",
       "      <td>584.450012</td>\n",
       "      <td>-3.556458e-01</td>\n",
       "      <td>587.200012</td>\n",
       "      <td>-2.559236e-01</td>\n",
       "      <td>0.0</td>\n",
       "    </tr>\n",
       "    <tr>\n",
       "      <th>75%</th>\n",
       "      <td>626.000000</td>\n",
       "      <td>634.900024</td>\n",
       "      <td>622.000000</td>\n",
       "      <td>2.592307e-01</td>\n",
       "      <td>626.750000</td>\n",
       "      <td>4.062254e-01</td>\n",
       "      <td>0.0</td>\n",
       "    </tr>\n",
       "    <tr>\n",
       "      <th>max</th>\n",
       "      <td>790.000000</td>\n",
       "      <td>793.400024</td>\n",
       "      <td>783.000000</td>\n",
       "      <td>2.828651e+00</td>\n",
       "      <td>788.049988</td>\n",
       "      <td>6.723589e+00</td>\n",
       "      <td>0.0</td>\n",
       "    </tr>\n",
       "  </tbody>\n",
       "</table>\n",
       "</div>"
      ],
      "text/plain": [
       "             Open        High         Low         Close   Adj Close  \\\n",
       "count  245.000000  245.000000  245.000000  2.450000e+02  245.000000   \n",
       "mean   610.487144  616.028980  604.899591  8.120488e-16  608.728476   \n",
       "std     62.365630   64.339029   61.093770  1.000000e+00   64.224782   \n",
       "min    509.000000  518.000000  506.299988 -1.496991e+00  506.654419   \n",
       "25%    572.950012  575.450012  568.000000 -6.025523e-01  569.549988   \n",
       "50%    588.400024  593.900024  584.450012 -3.556458e-01  587.200012   \n",
       "75%    626.000000  634.900024  622.000000  2.592307e-01  626.750000   \n",
       "max    790.000000  793.400024  783.000000  2.828651e+00  788.049988   \n",
       "\n",
       "             Volume  missing_flag  \n",
       "count  2.450000e+02         245.0  \n",
       "mean   2.138879e-16           0.0  \n",
       "std    1.000000e+00           0.0  \n",
       "min   -1.377466e+00           0.0  \n",
       "25%   -6.802108e-01           0.0  \n",
       "50%   -2.559236e-01           0.0  \n",
       "75%    4.062254e-01           0.0  \n",
       "max    6.723589e+00           0.0  "
      ]
     },
     "execution_count": 66,
     "metadata": {},
     "output_type": "execute_result"
    }
   ],
   "source": [
    "sbi.describe()"
   ]
  },
  {
   "cell_type": "code",
   "execution_count": 67,
   "id": "76e28e56",
   "metadata": {},
   "outputs": [
    {
     "data": {
      "text/html": [
       "<div>\n",
       "<style scoped>\n",
       "    .dataframe tbody tr th:only-of-type {\n",
       "        vertical-align: middle;\n",
       "    }\n",
       "\n",
       "    .dataframe tbody tr th {\n",
       "        vertical-align: top;\n",
       "    }\n",
       "\n",
       "    .dataframe thead th {\n",
       "        text-align: right;\n",
       "    }\n",
       "</style>\n",
       "<table border=\"1\" class=\"dataframe\">\n",
       "  <thead>\n",
       "    <tr style=\"text-align: right;\">\n",
       "      <th></th>\n",
       "      <th>Open</th>\n",
       "      <th>High</th>\n",
       "      <th>Low</th>\n",
       "      <th>Close</th>\n",
       "      <th>Adj Close</th>\n",
       "      <th>Volume</th>\n",
       "    </tr>\n",
       "  </thead>\n",
       "  <tbody>\n",
       "    <tr>\n",
       "      <th>count</th>\n",
       "      <td>245.000000</td>\n",
       "      <td>245.000000</td>\n",
       "      <td>245.000000</td>\n",
       "      <td>245.000000</td>\n",
       "      <td>245.000000</td>\n",
       "      <td>2.450000e+02</td>\n",
       "    </tr>\n",
       "    <tr>\n",
       "      <th>mean</th>\n",
       "      <td>3540.116128</td>\n",
       "      <td>3569.652642</td>\n",
       "      <td>3512.520827</td>\n",
       "      <td>3541.878573</td>\n",
       "      <td>3516.721316</td>\n",
       "      <td>2.102595e+06</td>\n",
       "    </tr>\n",
       "    <tr>\n",
       "      <th>std</th>\n",
       "      <td>292.381760</td>\n",
       "      <td>301.016356</td>\n",
       "      <td>287.155327</td>\n",
       "      <td>293.769659</td>\n",
       "      <td>309.027257</td>\n",
       "      <td>1.153006e+06</td>\n",
       "    </tr>\n",
       "    <tr>\n",
       "      <th>min</th>\n",
       "      <td>3090.000000</td>\n",
       "      <td>3113.000000</td>\n",
       "      <td>3070.250000</td>\n",
       "      <td>3089.600098</td>\n",
       "      <td>3036.871582</td>\n",
       "      <td>7.722910e+05</td>\n",
       "    </tr>\n",
       "    <tr>\n",
       "      <th>25%</th>\n",
       "      <td>3309.000000</td>\n",
       "      <td>3327.699951</td>\n",
       "      <td>3285.050049</td>\n",
       "      <td>3305.600098</td>\n",
       "      <td>3259.604248</td>\n",
       "      <td>1.395753e+06</td>\n",
       "    </tr>\n",
       "    <tr>\n",
       "      <th>50%</th>\n",
       "      <td>3455.250000</td>\n",
       "      <td>3481.250000</td>\n",
       "      <td>3435.199951</td>\n",
       "      <td>3463.300049</td>\n",
       "      <td>3439.711426</td>\n",
       "      <td>1.788138e+06</td>\n",
       "    </tr>\n",
       "    <tr>\n",
       "      <th>75%</th>\n",
       "      <td>3767.000000</td>\n",
       "      <td>3811.100098</td>\n",
       "      <td>3743.350098</td>\n",
       "      <td>3783.199951</td>\n",
       "      <td>3765.750488</td>\n",
       "      <td>2.417727e+06</td>\n",
       "    </tr>\n",
       "    <tr>\n",
       "      <th>max</th>\n",
       "      <td>4215.250000</td>\n",
       "      <td>4254.750000</td>\n",
       "      <td>4177.000000</td>\n",
       "      <td>4219.250000</td>\n",
       "      <td>4219.250000</td>\n",
       "      <td>8.931209e+06</td>\n",
       "    </tr>\n",
       "  </tbody>\n",
       "</table>\n",
       "</div>"
      ],
      "text/plain": [
       "              Open         High          Low        Close    Adj Close  \\\n",
       "count   245.000000   245.000000   245.000000   245.000000   245.000000   \n",
       "mean   3540.116128  3569.652642  3512.520827  3541.878573  3516.721316   \n",
       "std     292.381760   301.016356   287.155327   293.769659   309.027257   \n",
       "min    3090.000000  3113.000000  3070.250000  3089.600098  3036.871582   \n",
       "25%    3309.000000  3327.699951  3285.050049  3305.600098  3259.604248   \n",
       "50%    3455.250000  3481.250000  3435.199951  3463.300049  3439.711426   \n",
       "75%    3767.000000  3811.100098  3743.350098  3783.199951  3765.750488   \n",
       "max    4215.250000  4254.750000  4177.000000  4219.250000  4219.250000   \n",
       "\n",
       "             Volume  \n",
       "count  2.450000e+02  \n",
       "mean   2.102595e+06  \n",
       "std    1.153006e+06  \n",
       "min    7.722910e+05  \n",
       "25%    1.395753e+06  \n",
       "50%    1.788138e+06  \n",
       "75%    2.417727e+06  \n",
       "max    8.931209e+06  "
      ]
     },
     "execution_count": 67,
     "metadata": {},
     "output_type": "execute_result"
    }
   ],
   "source": [
    "tcs.describe()"
   ]
  },
  {
   "cell_type": "code",
   "execution_count": 68,
   "id": "44997d06",
   "metadata": {},
   "outputs": [
    {
     "data": {
      "text/html": [
       "<div>\n",
       "<style scoped>\n",
       "    .dataframe tbody tr th:only-of-type {\n",
       "        vertical-align: middle;\n",
       "    }\n",
       "\n",
       "    .dataframe tbody tr th {\n",
       "        vertical-align: top;\n",
       "    }\n",
       "\n",
       "    .dataframe thead th {\n",
       "        text-align: right;\n",
       "    }\n",
       "</style>\n",
       "<table border=\"1\" class=\"dataframe\">\n",
       "  <thead>\n",
       "    <tr style=\"text-align: right;\">\n",
       "      <th></th>\n",
       "      <th>Open</th>\n",
       "      <th>High</th>\n",
       "      <th>Low</th>\n",
       "      <th>Close</th>\n",
       "      <th>Adj Close</th>\n",
       "      <th>Volume</th>\n",
       "    </tr>\n",
       "  </thead>\n",
       "  <tbody>\n",
       "    <tr>\n",
       "      <th>count</th>\n",
       "      <td>245.000000</td>\n",
       "      <td>245.000000</td>\n",
       "      <td>245.000000</td>\n",
       "      <td>245.000000</td>\n",
       "      <td>245.000000</td>\n",
       "      <td>2.450000e+02</td>\n",
       "    </tr>\n",
       "    <tr>\n",
       "      <th>mean</th>\n",
       "      <td>1543.356528</td>\n",
       "      <td>1560.116326</td>\n",
       "      <td>1525.553269</td>\n",
       "      <td>1543.385102</td>\n",
       "      <td>1539.427725</td>\n",
       "      <td>2.718996e+06</td>\n",
       "    </tr>\n",
       "    <tr>\n",
       "      <th>std</th>\n",
       "      <td>191.368068</td>\n",
       "      <td>196.362691</td>\n",
       "      <td>187.290972</td>\n",
       "      <td>191.482942</td>\n",
       "      <td>196.031587</td>\n",
       "      <td>1.799463e+06</td>\n",
       "    </tr>\n",
       "    <tr>\n",
       "      <th>min</th>\n",
       "      <td>1133.949951</td>\n",
       "      <td>1152.449951</td>\n",
       "      <td>1132.000000</td>\n",
       "      <td>1144.300049</td>\n",
       "      <td>1132.432739</td>\n",
       "      <td>9.050860e+05</td>\n",
       "    </tr>\n",
       "    <tr>\n",
       "      <th>25%</th>\n",
       "      <td>1422.800049</td>\n",
       "      <td>1461.000000</td>\n",
       "      <td>1400.000000</td>\n",
       "      <td>1447.400024</td>\n",
       "      <td>1438.525024</td>\n",
       "      <td>1.731806e+06</td>\n",
       "    </tr>\n",
       "    <tr>\n",
       "      <th>50%</th>\n",
       "      <td>1559.000000</td>\n",
       "      <td>1574.000000</td>\n",
       "      <td>1540.599976</td>\n",
       "      <td>1556.300049</td>\n",
       "      <td>1553.199951</td>\n",
       "      <td>2.279220e+06</td>\n",
       "    </tr>\n",
       "    <tr>\n",
       "      <th>75%</th>\n",
       "      <td>1645.000000</td>\n",
       "      <td>1666.000000</td>\n",
       "      <td>1623.900024</td>\n",
       "      <td>1642.000000</td>\n",
       "      <td>1642.000000</td>\n",
       "      <td>3.188395e+06</td>\n",
       "    </tr>\n",
       "    <tr>\n",
       "      <th>max</th>\n",
       "      <td>1967.000000</td>\n",
       "      <td>1982.300049</td>\n",
       "      <td>1930.500000</td>\n",
       "      <td>1972.949951</td>\n",
       "      <td>1972.949951</td>\n",
       "      <td>1.832383e+07</td>\n",
       "    </tr>\n",
       "  </tbody>\n",
       "</table>\n",
       "</div>"
      ],
      "text/plain": [
       "              Open         High          Low        Close    Adj Close  \\\n",
       "count   245.000000   245.000000   245.000000   245.000000   245.000000   \n",
       "mean   1543.356528  1560.116326  1525.553269  1543.385102  1539.427725   \n",
       "std     191.368068   196.362691   187.290972   191.482942   196.031587   \n",
       "min    1133.949951  1152.449951  1132.000000  1144.300049  1132.432739   \n",
       "25%    1422.800049  1461.000000  1400.000000  1447.400024  1438.525024   \n",
       "50%    1559.000000  1574.000000  1540.599976  1556.300049  1553.199951   \n",
       "75%    1645.000000  1666.000000  1623.900024  1642.000000  1642.000000   \n",
       "max    1967.000000  1982.300049  1930.500000  1972.949951  1972.949951   \n",
       "\n",
       "             Volume  \n",
       "count  2.450000e+02  \n",
       "mean   2.718996e+06  \n",
       "std    1.799463e+06  \n",
       "min    9.050860e+05  \n",
       "25%    1.731806e+06  \n",
       "50%    2.279220e+06  \n",
       "75%    3.188395e+06  \n",
       "max    1.832383e+07  "
      ]
     },
     "execution_count": 68,
     "metadata": {},
     "output_type": "execute_result"
    }
   ],
   "source": [
    "mm.describe()"
   ]
  },
  {
   "cell_type": "code",
   "execution_count": 69,
   "id": "6343e252",
   "metadata": {},
   "outputs": [
    {
     "data": {
      "text/html": [
       "<div>\n",
       "<style scoped>\n",
       "    .dataframe tbody tr th:only-of-type {\n",
       "        vertical-align: middle;\n",
       "    }\n",
       "\n",
       "    .dataframe tbody tr th {\n",
       "        vertical-align: top;\n",
       "    }\n",
       "\n",
       "    .dataframe thead th {\n",
       "        text-align: right;\n",
       "    }\n",
       "</style>\n",
       "<table border=\"1\" class=\"dataframe\">\n",
       "  <thead>\n",
       "    <tr style=\"text-align: right;\">\n",
       "      <th></th>\n",
       "      <th>Open</th>\n",
       "      <th>High</th>\n",
       "      <th>Low</th>\n",
       "      <th>Close</th>\n",
       "      <th>Adj Close</th>\n",
       "      <th>Volume</th>\n",
       "    </tr>\n",
       "  </thead>\n",
       "  <tbody>\n",
       "    <tr>\n",
       "      <th>count</th>\n",
       "      <td>245.000000</td>\n",
       "      <td>245.000000</td>\n",
       "      <td>245.000000</td>\n",
       "      <td>245.000000</td>\n",
       "      <td>245.000000</td>\n",
       "      <td>2.450000e+02</td>\n",
       "    </tr>\n",
       "    <tr>\n",
       "      <th>mean</th>\n",
       "      <td>104.758367</td>\n",
       "      <td>106.806326</td>\n",
       "      <td>102.791225</td>\n",
       "      <td>104.809796</td>\n",
       "      <td>104.809796</td>\n",
       "      <td>7.073220e+07</td>\n",
       "    </tr>\n",
       "    <tr>\n",
       "      <th>std</th>\n",
       "      <td>33.134157</td>\n",
       "      <td>33.881782</td>\n",
       "      <td>32.284658</td>\n",
       "      <td>33.125236</td>\n",
       "      <td>33.125236</td>\n",
       "      <td>4.937855e+07</td>\n",
       "    </tr>\n",
       "    <tr>\n",
       "      <th>min</th>\n",
       "      <td>50.250000</td>\n",
       "      <td>51.700001</td>\n",
       "      <td>49.599998</td>\n",
       "      <td>51.000000</td>\n",
       "      <td>51.000000</td>\n",
       "      <td>0.000000e+00</td>\n",
       "    </tr>\n",
       "    <tr>\n",
       "      <th>25%</th>\n",
       "      <td>75.800003</td>\n",
       "      <td>77.000000</td>\n",
       "      <td>74.599998</td>\n",
       "      <td>75.800003</td>\n",
       "      <td>75.800003</td>\n",
       "      <td>4.294689e+07</td>\n",
       "    </tr>\n",
       "    <tr>\n",
       "      <th>50%</th>\n",
       "      <td>101.000000</td>\n",
       "      <td>104.400002</td>\n",
       "      <td>99.599998</td>\n",
       "      <td>101.349998</td>\n",
       "      <td>101.349998</td>\n",
       "      <td>5.696814e+07</td>\n",
       "    </tr>\n",
       "    <tr>\n",
       "      <th>75%</th>\n",
       "      <td>128.050003</td>\n",
       "      <td>129.449997</td>\n",
       "      <td>124.300003</td>\n",
       "      <td>127.400002</td>\n",
       "      <td>127.400002</td>\n",
       "      <td>7.993568e+07</td>\n",
       "    </tr>\n",
       "    <tr>\n",
       "      <th>max</th>\n",
       "      <td>183.600006</td>\n",
       "      <td>189.000000</td>\n",
       "      <td>177.199997</td>\n",
       "      <td>182.600006</td>\n",
       "      <td>182.600006</td>\n",
       "      <td>4.057516e+08</td>\n",
       "    </tr>\n",
       "  </tbody>\n",
       "</table>\n",
       "</div>"
      ],
      "text/plain": [
       "             Open        High         Low       Close   Adj Close  \\\n",
       "count  245.000000  245.000000  245.000000  245.000000  245.000000   \n",
       "mean   104.758367  106.806326  102.791225  104.809796  104.809796   \n",
       "std     33.134157   33.881782   32.284658   33.125236   33.125236   \n",
       "min     50.250000   51.700001   49.599998   51.000000   51.000000   \n",
       "25%     75.800003   77.000000   74.599998   75.800003   75.800003   \n",
       "50%    101.000000  104.400002   99.599998  101.349998  101.349998   \n",
       "75%    128.050003  129.449997  124.300003  127.400002  127.400002   \n",
       "max    183.600006  189.000000  177.199997  182.600006  182.600006   \n",
       "\n",
       "             Volume  \n",
       "count  2.450000e+02  \n",
       "mean   7.073220e+07  \n",
       "std    4.937855e+07  \n",
       "min    0.000000e+00  \n",
       "25%    4.294689e+07  \n",
       "50%    5.696814e+07  \n",
       "75%    7.993568e+07  \n",
       "max    4.057516e+08  "
      ]
     },
     "execution_count": 69,
     "metadata": {},
     "output_type": "execute_result"
    }
   ],
   "source": [
    "zom.describe()"
   ]
  },
  {
   "cell_type": "markdown",
   "id": "59f02c01",
   "metadata": {},
   "source": [
    "## Correlation "
   ]
  },
  {
   "cell_type": "code",
   "execution_count": 34,
   "id": "a6e79bb8",
   "metadata": {},
   "outputs": [
    {
     "data": {
      "text/html": [
       "<div>\n",
       "<style scoped>\n",
       "    .dataframe tbody tr th:only-of-type {\n",
       "        vertical-align: middle;\n",
       "    }\n",
       "\n",
       "    .dataframe tbody tr th {\n",
       "        vertical-align: top;\n",
       "    }\n",
       "\n",
       "    .dataframe thead th {\n",
       "        text-align: right;\n",
       "    }\n",
       "</style>\n",
       "<table border=\"1\" class=\"dataframe\">\n",
       "  <thead>\n",
       "    <tr style=\"text-align: right;\">\n",
       "      <th></th>\n",
       "      <th>Open</th>\n",
       "      <th>High</th>\n",
       "      <th>Low</th>\n",
       "      <th>Close</th>\n",
       "      <th>Adj Close</th>\n",
       "      <th>Volume</th>\n",
       "    </tr>\n",
       "  </thead>\n",
       "  <tbody>\n",
       "    <tr>\n",
       "      <th>Open</th>\n",
       "      <td>1.000000</td>\n",
       "      <td>0.996480</td>\n",
       "      <td>0.997277</td>\n",
       "      <td>0.992788</td>\n",
       "      <td>0.991958</td>\n",
       "      <td>0.143182</td>\n",
       "    </tr>\n",
       "    <tr>\n",
       "      <th>High</th>\n",
       "      <td>0.996480</td>\n",
       "      <td>1.000000</td>\n",
       "      <td>0.996414</td>\n",
       "      <td>0.997474</td>\n",
       "      <td>0.995929</td>\n",
       "      <td>0.182036</td>\n",
       "    </tr>\n",
       "    <tr>\n",
       "      <th>Low</th>\n",
       "      <td>0.997277</td>\n",
       "      <td>0.996414</td>\n",
       "      <td>1.000000</td>\n",
       "      <td>0.996837</td>\n",
       "      <td>0.995774</td>\n",
       "      <td>0.124812</td>\n",
       "    </tr>\n",
       "    <tr>\n",
       "      <th>Close</th>\n",
       "      <td>0.992788</td>\n",
       "      <td>0.997474</td>\n",
       "      <td>0.996837</td>\n",
       "      <td>1.000000</td>\n",
       "      <td>0.998306</td>\n",
       "      <td>0.155541</td>\n",
       "    </tr>\n",
       "    <tr>\n",
       "      <th>Adj Close</th>\n",
       "      <td>0.991958</td>\n",
       "      <td>0.995929</td>\n",
       "      <td>0.995774</td>\n",
       "      <td>0.998306</td>\n",
       "      <td>1.000000</td>\n",
       "      <td>0.143556</td>\n",
       "    </tr>\n",
       "    <tr>\n",
       "      <th>Volume</th>\n",
       "      <td>0.143182</td>\n",
       "      <td>0.182036</td>\n",
       "      <td>0.124812</td>\n",
       "      <td>0.155541</td>\n",
       "      <td>0.143556</td>\n",
       "      <td>1.000000</td>\n",
       "    </tr>\n",
       "  </tbody>\n",
       "</table>\n",
       "</div>"
      ],
      "text/plain": [
       "               Open      High       Low     Close  Adj Close    Volume\n",
       "Open       1.000000  0.996480  0.997277  0.992788   0.991958  0.143182\n",
       "High       0.996480  1.000000  0.996414  0.997474   0.995929  0.182036\n",
       "Low        0.997277  0.996414  1.000000  0.996837   0.995774  0.124812\n",
       "Close      0.992788  0.997474  0.996837  1.000000   0.998306  0.155541\n",
       "Adj Close  0.991958  0.995929  0.995774  0.998306   1.000000  0.143556\n",
       "Volume     0.143182  0.182036  0.124812  0.155541   0.143556  1.000000"
      ]
     },
     "execution_count": 34,
     "metadata": {},
     "output_type": "execute_result"
    }
   ],
   "source": [
    "# Exclude 'Date' column from correlation calculation\n",
    "numerical_columns = ['Open', 'High', 'Low', 'Close', 'Adj Close', 'Volume']\n",
    "correlation_matrix = sbi[numerical_columns].corr()\n",
    "correlation_matrix"
   ]
  },
  {
   "cell_type": "code",
   "execution_count": 35,
   "id": "52aece36",
   "metadata": {},
   "outputs": [
    {
     "data": {
      "image/png": "[encoded data removed]",
      "text/plain": [
       "<Figure size 1000x800 with 2 Axes>"
      ]
     },
     "metadata": {},
     "output_type": "display_data"
    }
   ],
   "source": [
    "import matplotlib.pyplot as plt\n",
    "import seaborn as sns\n",
    "# Heatmap of correlation matrix\n",
    "plt.figure(figsize=(10, 8))\n",
    "sns.heatmap(correlation_matrix, annot=True, cmap='coolwarm', fmt=\".2f\", linewidths=.5)\n",
    "plt.title(\"Correlation Matrix\")\n",
    "plt.show()"
   ]
  },
  {
   "cell_type": "code",
   "execution_count": 36,
   "id": "78d22e12",
   "metadata": {},
   "outputs": [
    {
     "data": {
      "application/vnd.plotly.v1+json": {
       "config": {
        "plotlyServerURL": "https://plot.ly"
       },
       "data": [
        {
         "colorscale": [
          [
           0,
           "#440154"
          ],
          [
           0.1111111111111111,
           "#482878"
          ],
          [
           0.2222222222222222,
           "#3e4989"
          ],
          [
           0.3333333333333333,
           "#31688e"
          ],
          [
           0.4444444444444444,
           "#26828e"
          ],
          [
           0.5555555555555556,
           "#1f9e89"
          ],
          [
           0.6666666666666666,
           "#35b779"
          ],
          [
           0.7777777777777778,
           "#6ece58"
          ],
          [
           0.8888888888888888,
           "#b5de2b"
          ],
          [
           1,
           "#fde725"
          ]
         ],
         "reversescale": false,
         "showscale": false,
         "type": "heatmap",
         "x": [
          "Open",
          "High",
          "Low",
          "Close",
          "Adj Close",
          "Volume"
         ],
         "y": [
          "Open",
          "High",
          "Low",
          "Close",
          "Adj Close",
          "Volume"
         ],
         "z": [
          [
           1,
           1,
           1,
           0.99,
           0.99,
           0.14
          ],
          [
           1,
           1,
           1,
           1,
           1,
           0.18
          ],
          [
           1,
           1,
           1,
           1,
           1,
           0.12
          ],
          [
           0.99,
           1,
           1,
           1,
           1,
           0.16
          ],
          [
           0.99,
           1,
           1,
           1,
           1,
           0.14
          ],
          [
           0.14,
           0.18,
           0.12,
           0.16,
           0.14,
           1
          ]
         ]
        }
       ],
       "layout": {
        "annotations": [
         {
          "font": {
           "color": "#000000"
          },
          "showarrow": false,
          "text": "1.0",
          "x": "Open",
          "xref": "x",
          "y": "Open",
          "yref": "y"
         },
         {
          "font": {
           "color": "#000000"
          },
          "showarrow": false,
          "text": "1.0",
          "x": "High",
          "xref": "x",
          "y": "Open",
          "yref": "y"
         },
         {
          "font": {
           "color": "#000000"
          },
          "showarrow": false,
          "text": "1.0",
          "x": "Low",
          "xref": "x",
          "y": "Open",
          "yref": "y"
         },
         {
          "font": {
           "color": "#000000"
          },
          "showarrow": false,
          "text": "0.99",
          "x": "Close",
          "xref": "x",
          "y": "Open",
          "yref": "y"
         },
         {
          "font": {
           "color": "#000000"
          },
          "showarrow": false,
          "text": "0.99",
          "x": "Adj Close",
          "xref": "x",
          "y": "Open",
          "yref": "y"
         },
         {
          "font": {
           "color": "#FFFFFF"
          },
          "showarrow": false,
          "text": "0.14",
          "x": "Volume",
          "xref": "x",
          "y": "Open",
          "yref": "y"
         },
         {
          "font": {
           "color": "#000000"
          },
          "showarrow": false,
          "text": "1.0",
          "x": "Open",
          "xref": "x",
          "y": "High",
          "yref": "y"
         },
         {
          "font": {
           "color": "#000000"
          },
          "showarrow": false,
          "text": "1.0",
          "x": "High",
          "xref": "x",
          "y": "High",
          "yref": "y"
         },
         {
          "font": {
           "color": "#000000"
          },
          "showarrow": false,
          "text": "1.0",
          "x": "Low",
          "xref": "x",
          "y": "High",
          "yref": "y"
         },
         {
          "font": {
           "color": "#000000"
          },
          "showarrow": false,
          "text": "1.0",
          "x": "Close",
          "xref": "x",
          "y": "High",
          "yref": "y"
         },
         {
          "font": {
           "color": "#000000"
          },
          "showarrow": false,
          "text": "1.0",
          "x": "Adj Close",
          "xref": "x",
          "y": "High",
          "yref": "y"
         },
         {
          "font": {
           "color": "#FFFFFF"
          },
          "showarrow": false,
          "text": "0.18",
          "x": "Volume",
          "xref": "x",
          "y": "High",
          "yref": "y"
         },
         {
          "font": {
           "color": "#000000"
          },
          "showarrow": false,
          "text": "1.0",
          "x": "Open",
          "xref": "x",
          "y": "Low",
          "yref": "y"
         },
         {
          "font": {
           "color": "#000000"
          },
          "showarrow": false,
          "text": "1.0",
          "x": "High",
          "xref": "x",
          "y": "Low",
          "yref": "y"
         },
         {
          "font": {
           "color": "#000000"
          },
          "showarrow": false,
          "text": "1.0",
          "x": "Low",
          "xref": "x",
          "y": "Low",
          "yref": "y"
         },
         {
          "font": {
           "color": "#000000"
          },
          "showarrow": false,
          "text": "1.0",
          "x": "Close",
          "xref": "x",
          "y": "Low",
          "yref": "y"
         },
         {
          "font": {
           "color": "#000000"
          },
          "showarrow": false,
          "text": "1.0",
          "x": "Adj Close",
          "xref": "x",
          "y": "Low",
          "yref": "y"
         },
         {
          "font": {
           "color": "#FFFFFF"
          },
          "showarrow": false,
          "text": "0.12",
          "x": "Volume",
          "xref": "x",
          "y": "Low",
          "yref": "y"
         },
         {
          "font": {
           "color": "#000000"
          },
          "showarrow": false,
          "text": "0.99",
          "x": "Open",
          "xref": "x",
          "y": "Close",
          "yref": "y"
         },
         {
          "font": {
           "color": "#000000"
          },
          "showarrow": false,
          "text": "1.0",
          "x": "High",
          "xref": "x",
          "y": "Close",
          "yref": "y"
         },
         {
          "font": {
           "color": "#000000"
          },
          "showarrow": false,
          "text": "1.0",
          "x": "Low",
          "xref": "x",
          "y": "Close",
          "yref": "y"
         },
         {
          "font": {
           "color": "#000000"
          },
          "showarrow": false,
          "text": "1.0",
          "x": "Close",
          "xref": "x",
          "y": "Close",
          "yref": "y"
         },
         {
          "font": {
           "color": "#000000"
          },
          "showarrow": false,
          "text": "1.0",
          "x": "Adj Close",
          "xref": "x",
          "y": "Close",
          "yref": "y"
         },
         {
          "font": {
           "color": "#FFFFFF"
          },
          "showarrow": false,
          "text": "0.16",
          "x": "Volume",
          "xref": "x",
          "y": "Close",
          "yref": "y"
         },
         {
          "font": {
           "color": "#000000"
          },
          "showarrow": false,
          "text": "0.99",
          "x": "Open",
          "xref": "x",
          "y": "Adj Close",
          "yref": "y"
         },
         {
          "font": {
           "color": "#000000"
          },
          "showarrow": false,
          "text": "1.0",
          "x": "High",
          "xref": "x",
          "y": "Adj Close",
          "yref": "y"
         },
         {
          "font": {
           "color": "#000000"
          },
          "showarrow": false,
          "text": "1.0",
          "x": "Low",
          "xref": "x",
          "y": "Adj Close",
          "yref": "y"
         },
         {
          "font": {
           "color": "#000000"
          },
          "showarrow": false,
          "text": "1.0",
          "x": "Close",
          "xref": "x",
          "y": "Adj Close",
          "yref": "y"
         },
         {
          "font": {
           "color": "#000000"
          },
          "showarrow": false,
          "text": "1.0",
          "x": "Adj Close",
          "xref": "x",
          "y": "Adj Close",
          "yref": "y"
         },
         {
          "font": {
           "color": "#FFFFFF"
          },
          "showarrow": false,
          "text": "0.14",
          "x": "Volume",
          "xref": "x",
          "y": "Adj Close",
          "yref": "y"
         },
         {
          "font": {
           "color": "#FFFFFF"
          },
          "showarrow": false,
          "text": "0.14",
          "x": "Open",
          "xref": "x",
          "y": "Volume",
          "yref": "y"
         },
         {
          "font": {
           "color": "#FFFFFF"
          },
          "showarrow": false,
          "text": "0.18",
          "x": "High",
          "xref": "x",
          "y": "Volume",
          "yref": "y"
         },
         {
          "font": {
           "color": "#FFFFFF"
          },
          "showarrow": false,
          "text": "0.12",
          "x": "Low",
          "xref": "x",
          "y": "Volume",
          "yref": "y"
         },
         {
          "font": {
           "color": "#FFFFFF"
          },
          "showarrow": false,
          "text": "0.16",
          "x": "Close",
          "xref": "x",
          "y": "Volume",
          "yref": "y"
         },
         {
          "font": {
           "color": "#FFFFFF"
          },
          "showarrow": false,
          "text": "0.14",
          "x": "Adj Close",
          "xref": "x",
          "y": "Volume",
          "yref": "y"
         },
         {
          "font": {
           "color": "#000000"
          },
          "showarrow": false,
          "text": "1.0",
          "x": "Volume",
          "xref": "x",
          "y": "Volume",
          "yref": "y"
         }
        ],
        "template": {
         "data": {
          "bar": [
           {
            "error_x": {
             "color": "#2a3f5f"
            },
            "error_y": {
             "color": "#2a3f5f"
            },
            "marker": {
             "line": {
              "color": "#E5ECF6",
              "width": 0.5
             },
             "pattern": {
              "fillmode": "overlay",
              "size": 10,
              "solidity": 0.2
             }
            },
            "type": "bar"
           }
          ],
          "barpolar": [
           {
            "marker": {
             "line": {
              "color": "#E5ECF6",
              "width": 0.5
             },
             "pattern": {
              "fillmode": "overlay",
              "size": 10,
              "solidity": 0.2
             }
            },
            "type": "barpolar"
           }
          ],
          "carpet": [
           {
            "aaxis": {
             "endlinecolor": "#2a3f5f",
             "gridcolor": "white",
             "linecolor": "white",
             "minorgridcolor": "white",
             "startlinecolor": "#2a3f5f"
            },
            "baxis": {
             "endlinecolor": "#2a3f5f",
             "gridcolor": "white",
             "linecolor": "white",
             "minorgridcolor": "white",
             "startlinecolor": "#2a3f5f"
            },
            "type": "carpet"
           }
          ],
          "choropleth": [
           {
            "colorbar": {
             "outlinewidth": 0,
             "ticks": ""
            },
            "type": "choropleth"
           }
          ],
          "contour": [
           {
            "colorbar": {
             "outlinewidth": 0,
             "ticks": ""
            },
            "colorscale": [
             [
              0,
              "#0d0887"
             ],
             [
              0.1111111111111111,
              "#46039f"
             ],
             [
              0.2222222222222222,
              "#7201a8"
             ],
             [
              0.3333333333333333,
              "#9c179e"
             ],
             [
              0.4444444444444444,
              "#bd3786"
             ],
             [
              0.5555555555555556,
              "#d8576b"
             ],
             [
              0.6666666666666666,
              "#ed7953"
             ],
             [
              0.7777777777777778,
              "#fb9f3a"
             ],
             [
              0.8888888888888888,
              "#fdca26"
             ],
             [
              1,
              "#f0f921"
             ]
            ],
            "type": "contour"
           }
          ],
          "contourcarpet": [
           {
            "colorbar": {
             "outlinewidth": 0,
             "ticks": ""
            },
            "type": "contourcarpet"
           }
          ],
          "heatmap": [
           {
            "colorbar": {
             "outlinewidth": 0,
             "ticks": ""
            },
            "colorscale": [
             [
              0,
              "#0d0887"
             ],
             [
              0.1111111111111111,
              "#46039f"
             ],
             [
              0.2222222222222222,
              "#7201a8"
             ],
             [
              0.3333333333333333,
              "#9c179e"
             ],
             [
              0.4444444444444444,
              "#bd3786"
             ],
             [
              0.5555555555555556,
              "#d8576b"
             ],
             [
              0.6666666666666666,
              "#ed7953"
             ],
             [
              0.7777777777777778,
              "#fb9f3a"
             ],
             [
              0.8888888888888888,
              "#fdca26"
             ],
             [
              1,
              "#f0f921"
             ]
            ],
            "type": "heatmap"
           }
          ],
          "heatmapgl": [
           {
            "colorbar": {
             "outlinewidth": 0,
             "ticks": ""
            },
            "colorscale": [
             [
              0,
              "#0d0887"
             ],
             [
              0.1111111111111111,
              "#46039f"
             ],
             [
              0.2222222222222222,
              "#7201a8"
             ],
             [
              0.3333333333333333,
              "#9c179e"
             ],
             [
              0.4444444444444444,
              "#bd3786"
             ],
             [
              0.5555555555555556,
              "#d8576b"
             ],
             [
              0.6666666666666666,
              "#ed7953"
             ],
             [
              0.7777777777777778,
              "#fb9f3a"
             ],
             [
              0.8888888888888888,
              "#fdca26"
             ],
             [
              1,
              "#f0f921"
             ]
            ],
            "type": "heatmapgl"
           }
          ],
          "histogram": [
           {
            "marker": {
             "pattern": {
              "fillmode": "overlay",
              "size": 10,
              "solidity": 0.2
             }
            },
            "type": "histogram"
           }
          ],
          "histogram2d": [
           {
            "colorbar": {
             "outlinewidth": 0,
             "ticks": ""
            },
            "colorscale": [
             [
              0,
              "#0d0887"
             ],
             [
              0.1111111111111111,
              "#46039f"
             ],
             [
              0.2222222222222222,
              "#7201a8"
             ],
             [
              0.3333333333333333,
              "#9c179e"
             ],
             [
              0.4444444444444444,
              "#bd3786"
             ],
             [
              0.5555555555555556,
              "#d8576b"
             ],
             [
              0.6666666666666666,
              "#ed7953"
             ],
             [
              0.7777777777777778,
              "#fb9f3a"
             ],
             [
              0.8888888888888888,
              "#fdca26"
             ],
             [
              1,
              "#f0f921"
             ]
            ],
            "type": "histogram2d"
           }
          ],
          "histogram2dcontour": [
           {
            "colorbar": {
             "outlinewidth": 0,
             "ticks": ""
            },
            "colorscale": [
             [
              0,
              "#0d0887"
             ],
             [
              0.1111111111111111,
              "#46039f"
             ],
             [
              0.2222222222222222,
              "#7201a8"
             ],
             [
              0.3333333333333333,
              "#9c179e"
             ],
             [
              0.4444444444444444,
              "#bd3786"
             ],
             [
              0.5555555555555556,
              "#d8576b"
             ],
             [
              0.6666666666666666,
              "#ed7953"
             ],
             [
              0.7777777777777778,
              "#fb9f3a"
             ],
             [
              0.8888888888888888,
              "#fdca26"
             ],
             [
              1,
              "#f0f921"
             ]
            ],
            "type": "histogram2dcontour"
           }
          ],
          "mesh3d": [
           {
            "colorbar": {
             "outlinewidth": 0,
             "ticks": ""
            },
            "type": "mesh3d"
           }
          ],
          "parcoords": [
           {
            "line": {
             "colorbar": {
              "outlinewidth": 0,
              "ticks": ""
             }
            },
            "type": "parcoords"
           }
          ],
          "pie": [
           {
            "automargin": true,
            "type": "pie"
           }
          ],
          "scatter": [
           {
            "fillpattern": {
             "fillmode": "overlay",
             "size": 10,
             "solidity": 0.2
            },
            "type": "scatter"
           }
          ],
          "scatter3d": [
           {
            "line": {
             "colorbar": {
              "outlinewidth": 0,
              "ticks": ""
             }
            },
            "marker": {
             "colorbar": {
              "outlinewidth": 0,
              "ticks": ""
             }
            },
            "type": "scatter3d"
           }
          ],
          "scattercarpet": [
           {
            "marker": {
             "colorbar": {
              "outlinewidth": 0,
              "ticks": ""
             }
            },
            "type": "scattercarpet"
           }
          ],
          "scattergeo": [
           {
            "marker": {
             "colorbar": {
              "outlinewidth": 0,
              "ticks": ""
             }
            },
            "type": "scattergeo"
           }
          ],
          "scattergl": [
           {
            "marker": {
             "colorbar": {
              "outlinewidth": 0,
              "ticks": ""
             }
            },
            "type": "scattergl"
           }
          ],
          "scattermapbox": [
           {
            "marker": {
             "colorbar": {
              "outlinewidth": 0,
              "ticks": ""
             }
            },
            "type": "scattermapbox"
           }
          ],
          "scatterpolar": [
           {
            "marker": {
             "colorbar": {
              "outlinewidth": 0,
              "ticks": ""
             }
            },
            "type": "scatterpolar"
           }
          ],
          "scatterpolargl": [
           {
            "marker": {
             "colorbar": {
              "outlinewidth": 0,
              "ticks": ""
             }
            },
            "type": "scatterpolargl"
           }
          ],
          "scatterternary": [
           {
            "marker": {
             "colorbar": {
              "outlinewidth": 0,
              "ticks": ""
             }
            },
            "type": "scatterternary"
           }
          ],
          "surface": [
           {
            "colorbar": {
             "outlinewidth": 0,
             "ticks": ""
            },
            "colorscale": [
             [
              0,
              "#0d0887"
             ],
             [
              0.1111111111111111,
              "#46039f"
             ],
             [
              0.2222222222222222,
              "#7201a8"
             ],
             [
              0.3333333333333333,
              "#9c179e"
             ],
             [
              0.4444444444444444,
              "#bd3786"
             ],
             [
              0.5555555555555556,
              "#d8576b"
             ],
             [
              0.6666666666666666,
              "#ed7953"
             ],
             [
              0.7777777777777778,
              "#fb9f3a"
             ],
             [
              0.8888888888888888,
              "#fdca26"
             ],
             [
              1,
              "#f0f921"
             ]
            ],
            "type": "surface"
           }
          ],
          "table": [
           {
            "cells": {
             "fill": {
              "color": "#EBF0F8"
             },
             "line": {
              "color": "white"
             }
            },
            "header": {
             "fill": {
              "color": "#C8D4E3"
             },
             "line": {
              "color": "white"
             }
            },
            "type": "table"
           }
          ]
         },
         "layout": {
          "annotationdefaults": {
           "arrowcolor": "#2a3f5f",
           "arrowhead": 0,
           "arrowwidth": 1
          },
          "autotypenumbers": "strict",
          "coloraxis": {
           "colorbar": {
            "outlinewidth": 0,
            "ticks": ""
           }
          },
          "colorscale": {
           "diverging": [
            [
             0,
             "#8e0152"
            ],
            [
             0.1,
             "#c51b7d"
            ],
            [
             0.2,
             "#de77ae"
            ],
            [
             0.3,
             "#f1b6da"
            ],
            [
             0.4,
             "#fde0ef"
            ],
            [
             0.5,
             "#f7f7f7"
            ],
            [
             0.6,
             "#e6f5d0"
            ],
            [
             0.7,
             "#b8e186"
            ],
            [
             0.8,
             "#7fbc41"
            ],
            [
             0.9,
             "#4d9221"
            ],
            [
             1,
             "#276419"
            ]
           ],
           "sequential": [
            [
             0,
             "#0d0887"
            ],
            [
             0.1111111111111111,
             "#46039f"
            ],
            [
             0.2222222222222222,
             "#7201a8"
            ],
            [
             0.3333333333333333,
             "#9c179e"
            ],
            [
             0.4444444444444444,
             "#bd3786"
            ],
            [
             0.5555555555555556,
             "#d8576b"
            ],
            [
             0.6666666666666666,
             "#ed7953"
            ],
            [
             0.7777777777777778,
             "#fb9f3a"
            ],
            [
             0.8888888888888888,
             "#fdca26"
            ],
            [
             1,
             "#f0f921"
            ]
           ],
           "sequentialminus": [
            [
             0,
             "#0d0887"
            ],
            [
             0.1111111111111111,
             "#46039f"
            ],
            [
             0.2222222222222222,
             "#7201a8"
            ],
            [
             0.3333333333333333,
             "#9c179e"
            ],
            [
             0.4444444444444444,
             "#bd3786"
            ],
            [
             0.5555555555555556,
             "#d8576b"
            ],
            [
             0.6666666666666666,
             "#ed7953"
            ],
            [
             0.7777777777777778,
             "#fb9f3a"
            ],
            [
             0.8888888888888888,
             "#fdca26"
            ],
            [
             1,
             "#f0f921"
            ]
           ]
          },
          "colorway": [
           "#636efa",
           "#EF553B",
           "#00cc96",
           "#ab63fa",
           "#FFA15A",
           "#19d3f3",
           "#FF6692",
           "#B6E880",
           "#FF97FF",
           "#FECB52"
          ],
          "font": {
           "color": "#2a3f5f"
          },
          "geo": {
           "bgcolor": "white",
           "lakecolor": "white",
           "landcolor": "#E5ECF6",
           "showlakes": true,
           "showland": true,
           "subunitcolor": "white"
          },
          "hoverlabel": {
           "align": "left"
          },
          "hovermode": "closest",
          "mapbox": {
           "style": "light"
          },
          "paper_bgcolor": "white",
          "plot_bgcolor": "#E5ECF6",
          "polar": {
           "angularaxis": {
            "gridcolor": "white",
            "linecolor": "white",
            "ticks": ""
           },
           "bgcolor": "#E5ECF6",
           "radialaxis": {
            "gridcolor": "white",
            "linecolor": "white",
            "ticks": ""
           }
          },
          "scene": {
           "xaxis": {
            "backgroundcolor": "#E5ECF6",
            "gridcolor": "white",
            "gridwidth": 2,
            "linecolor": "white",
            "showbackground": true,
            "ticks": "",
            "zerolinecolor": "white"
           },
           "yaxis": {
            "backgroundcolor": "#E5ECF6",
            "gridcolor": "white",
            "gridwidth": 2,
            "linecolor": "white",
            "showbackground": true,
            "ticks": "",
            "zerolinecolor": "white"
           },
           "zaxis": {
            "backgroundcolor": "#E5ECF6",
            "gridcolor": "white",
            "gridwidth": 2,
            "linecolor": "white",
            "showbackground": true,
            "ticks": "",
            "zerolinecolor": "white"
           }
          },
          "shapedefaults": {
           "line": {
            "color": "#2a3f5f"
           }
          },
          "ternary": {
           "aaxis": {
            "gridcolor": "white",
            "linecolor": "white",
            "ticks": ""
           },
           "baxis": {
            "gridcolor": "white",
            "linecolor": "white",
            "ticks": ""
           },
           "bgcolor": "#E5ECF6",
           "caxis": {
            "gridcolor": "white",
            "linecolor": "white",
            "ticks": ""
           }
          },
          "title": {
           "x": 0.05
          },
          "xaxis": {
           "automargin": true,
           "gridcolor": "white",
           "linecolor": "white",
           "ticks": "",
           "title": {
            "standoff": 15
           },
           "zerolinecolor": "white",
           "zerolinewidth": 2
          },
          "yaxis": {
           "automargin": true,
           "gridcolor": "white",
           "linecolor": "white",
           "ticks": "",
           "title": {
            "standoff": 15
           },
           "zerolinecolor": "white",
           "zerolinewidth": 2
          }
         }
        },
        "title": {
         "text": "Correlation Matrix (Plotly)"
        },
        "xaxis": {
         "dtick": 1,
         "gridcolor": "rgb(0, 0, 0)",
         "side": "top",
         "ticks": ""
        },
        "yaxis": {
         "dtick": 1,
         "ticks": "",
         "ticksuffix": "  "
        }
       }
      },
      "text/html": [
       "<div>                            <div id=\"c36b9130-7c97-4aa6-95e9-88563988c7b2\" class=\"plotly-graph-div\" style=\"height:525px; width:100%;\"></div>            <script type=\"text/javascript\">                require([\"plotly\"], function(Plotly) {                    window.PLOTLYENV=window.PLOTLYENV || {};                                    if (document.getElementById(\"c36b9130-7c97-4aa6-95e9-88563988c7b2\")) {                    Plotly.newPlot(                        \"c36b9130-7c97-4aa6-95e9-88563988c7b2\",                        [{\"colorscale\":[[0.0,\"#440154\"],[0.1111111111111111,\"#482878\"],[0.2222222222222222,\"#3e4989\"],[0.3333333333333333,\"#31688e\"],[0.4444444444444444,\"#26828e\"],[0.5555555555555556,\"#1f9e89\"],[0.6666666666666666,\"#35b779\"],[0.7777777777777778,\"#6ece58\"],[0.8888888888888888,\"#b5de2b\"],[1.0,\"#fde725\"]],\"reversescale\":false,\"showscale\":false,\"x\":[\"Open\",\"High\",\"Low\",\"Close\",\"Adj Close\",\"Volume\"],\"y\":[\"Open\",\"High\",\"Low\",\"Close\",\"Adj Close\",\"Volume\"],\"z\":[[1.0,1.0,1.0,0.99,0.99,0.14],[1.0,1.0,1.0,1.0,1.0,0.18],[1.0,1.0,1.0,1.0,1.0,0.12],[0.99,1.0,1.0,1.0,1.0,0.16],[0.99,1.0,1.0,1.0,1.0,0.14],[0.14,0.18,0.12,0.16,0.14,1.0]],\"type\":\"heatmap\"}],                        {\"annotations\":[{\"font\":{\"color\":\"#000000\"},\"showarrow\":false,\"text\":\"1.0\",\"x\":\"Open\",\"xref\":\"x\",\"y\":\"Open\",\"yref\":\"y\"},{\"font\":{\"color\":\"#000000\"},\"showarrow\":false,\"text\":\"1.0\",\"x\":\"High\",\"xref\":\"x\",\"y\":\"Open\",\"yref\":\"y\"},{\"font\":{\"color\":\"#000000\"},\"showarrow\":false,\"text\":\"1.0\",\"x\":\"Low\",\"xref\":\"x\",\"y\":\"Open\",\"yref\":\"y\"},{\"font\":{\"color\":\"#000000\"},\"showarrow\":false,\"text\":\"0.99\",\"x\":\"Close\",\"xref\":\"x\",\"y\":\"Open\",\"yref\":\"y\"},{\"font\":{\"color\":\"#000000\"},\"showarrow\":false,\"text\":\"0.99\",\"x\":\"Adj Close\",\"xref\":\"x\",\"y\":\"Open\",\"yref\":\"y\"},{\"font\":{\"color\":\"#FFFFFF\"},\"showarrow\":false,\"text\":\"0.14\",\"x\":\"Volume\",\"xref\":\"x\",\"y\":\"Open\",\"yref\":\"y\"},{\"font\":{\"color\":\"#000000\"},\"showarrow\":false,\"text\":\"1.0\",\"x\":\"Open\",\"xref\":\"x\",\"y\":\"High\",\"yref\":\"y\"},{\"font\":{\"color\":\"#000000\"},\"showarrow\":false,\"text\":\"1.0\",\"x\":\"High\",\"xref\":\"x\",\"y\":\"High\",\"yref\":\"y\"},{\"font\":{\"color\":\"#000000\"},\"showarrow\":false,\"text\":\"1.0\",\"x\":\"Low\",\"xref\":\"x\",\"y\":\"High\",\"yref\":\"y\"},{\"font\":{\"color\":\"#000000\"},\"showarrow\":false,\"text\":\"1.0\",\"x\":\"Close\",\"xref\":\"x\",\"y\":\"High\",\"yref\":\"y\"},{\"font\":{\"color\":\"#000000\"},\"showarrow\":false,\"text\":\"1.0\",\"x\":\"Adj Close\",\"xref\":\"x\",\"y\":\"High\",\"yref\":\"y\"},{\"font\":{\"color\":\"#FFFFFF\"},\"showarrow\":false,\"text\":\"0.18\",\"x\":\"Volume\",\"xref\":\"x\",\"y\":\"High\",\"yref\":\"y\"},{\"font\":{\"color\":\"#000000\"},\"showarrow\":false,\"text\":\"1.0\",\"x\":\"Open\",\"xref\":\"x\",\"y\":\"Low\",\"yref\":\"y\"},{\"font\":{\"color\":\"#000000\"},\"showarrow\":false,\"text\":\"1.0\",\"x\":\"High\",\"xref\":\"x\",\"y\":\"Low\",\"yref\":\"y\"},{\"font\":{\"color\":\"#000000\"},\"showarrow\":false,\"text\":\"1.0\",\"x\":\"Low\",\"xref\":\"x\",\"y\":\"Low\",\"yref\":\"y\"},{\"font\":{\"color\":\"#000000\"},\"showarrow\":false,\"text\":\"1.0\",\"x\":\"Close\",\"xref\":\"x\",\"y\":\"Low\",\"yref\":\"y\"},{\"font\":{\"color\":\"#000000\"},\"showarrow\":false,\"text\":\"1.0\",\"x\":\"Adj Close\",\"xref\":\"x\",\"y\":\"Low\",\"yref\":\"y\"},{\"font\":{\"color\":\"#FFFFFF\"},\"showarrow\":false,\"text\":\"0.12\",\"x\":\"Volume\",\"xref\":\"x\",\"y\":\"Low\",\"yref\":\"y\"},{\"font\":{\"color\":\"#000000\"},\"showarrow\":false,\"text\":\"0.99\",\"x\":\"Open\",\"xref\":\"x\",\"y\":\"Close\",\"yref\":\"y\"},{\"font\":{\"color\":\"#000000\"},\"showarrow\":false,\"text\":\"1.0\",\"x\":\"High\",\"xref\":\"x\",\"y\":\"Close\",\"yref\":\"y\"},{\"font\":{\"color\":\"#000000\"},\"showarrow\":false,\"text\":\"1.0\",\"x\":\"Low\",\"xref\":\"x\",\"y\":\"Close\",\"yref\":\"y\"},{\"font\":{\"color\":\"#000000\"},\"showarrow\":false,\"text\":\"1.0\",\"x\":\"Close\",\"xref\":\"x\",\"y\":\"Close\",\"yref\":\"y\"},{\"font\":{\"color\":\"#000000\"},\"showarrow\":false,\"text\":\"1.0\",\"x\":\"Adj Close\",\"xref\":\"x\",\"y\":\"Close\",\"yref\":\"y\"},{\"font\":{\"color\":\"#FFFFFF\"},\"showarrow\":false,\"text\":\"0.16\",\"x\":\"Volume\",\"xref\":\"x\",\"y\":\"Close\",\"yref\":\"y\"},{\"font\":{\"color\":\"#000000\"},\"showarrow\":false,\"text\":\"0.99\",\"x\":\"Open\",\"xref\":\"x\",\"y\":\"Adj Close\",\"yref\":\"y\"},{\"font\":{\"color\":\"#000000\"},\"showarrow\":false,\"text\":\"1.0\",\"x\":\"High\",\"xref\":\"x\",\"y\":\"Adj Close\",\"yref\":\"y\"},{\"font\":{\"color\":\"#000000\"},\"showarrow\":false,\"text\":\"1.0\",\"x\":\"Low\",\"xref\":\"x\",\"y\":\"Adj Close\",\"yref\":\"y\"},{\"font\":{\"color\":\"#000000\"},\"showarrow\":false,\"text\":\"1.0\",\"x\":\"Close\",\"xref\":\"x\",\"y\":\"Adj Close\",\"yref\":\"y\"},{\"font\":{\"color\":\"#000000\"},\"showarrow\":false,\"text\":\"1.0\",\"x\":\"Adj Close\",\"xref\":\"x\",\"y\":\"Adj Close\",\"yref\":\"y\"},{\"font\":{\"color\":\"#FFFFFF\"},\"showarrow\":false,\"text\":\"0.14\",\"x\":\"Volume\",\"xref\":\"x\",\"y\":\"Adj Close\",\"yref\":\"y\"},{\"font\":{\"color\":\"#FFFFFF\"},\"showarrow\":false,\"text\":\"0.14\",\"x\":\"Open\",\"xref\":\"x\",\"y\":\"Volume\",\"yref\":\"y\"},{\"font\":{\"color\":\"#FFFFFF\"},\"showarrow\":false,\"text\":\"0.18\",\"x\":\"High\",\"xref\":\"x\",\"y\":\"Volume\",\"yref\":\"y\"},{\"font\":{\"color\":\"#FFFFFF\"},\"showarrow\":false,\"text\":\"0.12\",\"x\":\"Low\",\"xref\":\"x\",\"y\":\"Volume\",\"yref\":\"y\"},{\"font\":{\"color\":\"#FFFFFF\"},\"showarrow\":false,\"text\":\"0.16\",\"x\":\"Close\",\"xref\":\"x\",\"y\":\"Volume\",\"yref\":\"y\"},{\"font\":{\"color\":\"#FFFFFF\"},\"showarrow\":false,\"text\":\"0.14\",\"x\":\"Adj Close\",\"xref\":\"x\",\"y\":\"Volume\",\"yref\":\"y\"},{\"font\":{\"color\":\"#000000\"},\"showarrow\":false,\"text\":\"1.0\",\"x\":\"Volume\",\"xref\":\"x\",\"y\":\"Volume\",\"yref\":\"y\"}],\"xaxis\":{\"dtick\":1,\"gridcolor\":\"rgb(0, 0, 0)\",\"side\":\"top\",\"ticks\":\"\"},\"yaxis\":{\"dtick\":1,\"ticks\":\"\",\"ticksuffix\":\"  \"},\"template\":{\"data\":{\"histogram2dcontour\":[{\"type\":\"histogram2dcontour\",\"colorbar\":{\"outlinewidth\":0,\"ticks\":\"\"},\"colorscale\":[[0.0,\"#0d0887\"],[0.1111111111111111,\"#46039f\"],[0.2222222222222222,\"#7201a8\"],[0.3333333333333333,\"#9c179e\"],[0.4444444444444444,\"#bd3786\"],[0.5555555555555556,\"#d8576b\"],[0.6666666666666666,\"#ed7953\"],[0.7777777777777778,\"#fb9f3a\"],[0.8888888888888888,\"#fdca26\"],[1.0,\"#f0f921\"]]}],\"choropleth\":[{\"type\":\"choropleth\",\"colorbar\":{\"outlinewidth\":0,\"ticks\":\"\"}}],\"histogram2d\":[{\"type\":\"histogram2d\",\"colorbar\":{\"outlinewidth\":0,\"ticks\":\"\"},\"colorscale\":[[0.0,\"#0d0887\"],[0.1111111111111111,\"#46039f\"],[0.2222222222222222,\"#7201a8\"],[0.3333333333333333,\"#9c179e\"],[0.4444444444444444,\"#bd3786\"],[0.5555555555555556,\"#d8576b\"],[0.6666666666666666,\"#ed7953\"],[0.7777777777777778,\"#fb9f3a\"],[0.8888888888888888,\"#fdca26\"],[1.0,\"#f0f921\"]]}],\"heatmap\":[{\"type\":\"heatmap\",\"colorbar\":{\"outlinewidth\":0,\"ticks\":\"\"},\"colorscale\":[[0.0,\"#0d0887\"],[0.1111111111111111,\"#46039f\"],[0.2222222222222222,\"#7201a8\"],[0.3333333333333333,\"#9c179e\"],[0.4444444444444444,\"#bd3786\"],[0.5555555555555556,\"#d8576b\"],[0.6666666666666666,\"#ed7953\"],[0.7777777777777778,\"#fb9f3a\"],[0.8888888888888888,\"#fdca26\"],[1.0,\"#f0f921\"]]}],\"heatmapgl\":[{\"type\":\"heatmapgl\",\"colorbar\":{\"outlinewidth\":0,\"ticks\":\"\"},\"colorscale\":[[0.0,\"#0d0887\"],[0.1111111111111111,\"#46039f\"],[0.2222222222222222,\"#7201a8\"],[0.3333333333333333,\"#9c179e\"],[0.4444444444444444,\"#bd3786\"],[0.5555555555555556,\"#d8576b\"],[0.6666666666666666,\"#ed7953\"],[0.7777777777777778,\"#fb9f3a\"],[0.8888888888888888,\"#fdca26\"],[1.0,\"#f0f921\"]]}],\"contourcarpet\":[{\"type\":\"contourcarpet\",\"colorbar\":{\"outlinewidth\":0,\"ticks\":\"\"}}],\"contour\":[{\"type\":\"contour\",\"colorbar\":{\"outlinewidth\":0,\"ticks\":\"\"},\"colorscale\":[[0.0,\"#0d0887\"],[0.1111111111111111,\"#46039f\"],[0.2222222222222222,\"#7201a8\"],[0.3333333333333333,\"#9c179e\"],[0.4444444444444444,\"#bd3786\"],[0.5555555555555556,\"#d8576b\"],[0.6666666666666666,\"#ed7953\"],[0.7777777777777778,\"#fb9f3a\"],[0.8888888888888888,\"#fdca26\"],[1.0,\"#f0f921\"]]}],\"surface\":[{\"type\":\"surface\",\"colorbar\":{\"outlinewidth\":0,\"ticks\":\"\"},\"colorscale\":[[0.0,\"#0d0887\"],[0.1111111111111111,\"#46039f\"],[0.2222222222222222,\"#7201a8\"],[0.3333333333333333,\"#9c179e\"],[0.4444444444444444,\"#bd3786\"],[0.5555555555555556,\"#d8576b\"],[0.6666666666666666,\"#ed7953\"],[0.7777777777777778,\"#fb9f3a\"],[0.8888888888888888,\"#fdca26\"],[1.0,\"#f0f921\"]]}],\"mesh3d\":[{\"type\":\"mesh3d\",\"colorbar\":{\"outlinewidth\":0,\"ticks\":\"\"}}],\"scatter\":[{\"fillpattern\":{\"fillmode\":\"overlay\",\"size\":10,\"solidity\":0.2},\"type\":\"scatter\"}],\"parcoords\":[{\"type\":\"parcoords\",\"line\":{\"colorbar\":{\"outlinewidth\":0,\"ticks\":\"\"}}}],\"scatterpolargl\":[{\"type\":\"scatterpolargl\",\"marker\":{\"colorbar\":{\"outlinewidth\":0,\"ticks\":\"\"}}}],\"bar\":[{\"error_x\":{\"color\":\"#2a3f5f\"},\"error_y\":{\"color\":\"#2a3f5f\"},\"marker\":{\"line\":{\"color\":\"#E5ECF6\",\"width\":0.5},\"pattern\":{\"fillmode\":\"overlay\",\"size\":10,\"solidity\":0.2}},\"type\":\"bar\"}],\"scattergeo\":[{\"type\":\"scattergeo\",\"marker\":{\"colorbar\":{\"outlinewidth\":0,\"ticks\":\"\"}}}],\"scatterpolar\":[{\"type\":\"scatterpolar\",\"marker\":{\"colorbar\":{\"outlinewidth\":0,\"ticks\":\"\"}}}],\"histogram\":[{\"marker\":{\"pattern\":{\"fillmode\":\"overlay\",\"size\":10,\"solidity\":0.2}},\"type\":\"histogram\"}],\"scattergl\":[{\"type\":\"scattergl\",\"marker\":{\"colorbar\":{\"outlinewidth\":0,\"ticks\":\"\"}}}],\"scatter3d\":[{\"type\":\"scatter3d\",\"line\":{\"colorbar\":{\"outlinewidth\":0,\"ticks\":\"\"}},\"marker\":{\"colorbar\":{\"outlinewidth\":0,\"ticks\":\"\"}}}],\"scattermapbox\":[{\"type\":\"scattermapbox\",\"marker\":{\"colorbar\":{\"outlinewidth\":0,\"ticks\":\"\"}}}],\"scatterternary\":[{\"type\":\"scatterternary\",\"marker\":{\"colorbar\":{\"outlinewidth\":0,\"ticks\":\"\"}}}],\"scattercarpet\":[{\"type\":\"scattercarpet\",\"marker\":{\"colorbar\":{\"outlinewidth\":0,\"ticks\":\"\"}}}],\"carpet\":[{\"aaxis\":{\"endlinecolor\":\"#2a3f5f\",\"gridcolor\":\"white\",\"linecolor\":\"white\",\"minorgridcolor\":\"white\",\"startlinecolor\":\"#2a3f5f\"},\"baxis\":{\"endlinecolor\":\"#2a3f5f\",\"gridcolor\":\"white\",\"linecolor\":\"white\",\"minorgridcolor\":\"white\",\"startlinecolor\":\"#2a3f5f\"},\"type\":\"carpet\"}],\"table\":[{\"cells\":{\"fill\":{\"color\":\"#EBF0F8\"},\"line\":{\"color\":\"white\"}},\"header\":{\"fill\":{\"color\":\"#C8D4E3\"},\"line\":{\"color\":\"white\"}},\"type\":\"table\"}],\"barpolar\":[{\"marker\":{\"line\":{\"color\":\"#E5ECF6\",\"width\":0.5},\"pattern\":{\"fillmode\":\"overlay\",\"size\":10,\"solidity\":0.2}},\"type\":\"barpolar\"}],\"pie\":[{\"automargin\":true,\"type\":\"pie\"}]},\"layout\":{\"autotypenumbers\":\"strict\",\"colorway\":[\"#636efa\",\"#EF553B\",\"#00cc96\",\"#ab63fa\",\"#FFA15A\",\"#19d3f3\",\"#FF6692\",\"#B6E880\",\"#FF97FF\",\"#FECB52\"],\"font\":{\"color\":\"#2a3f5f\"},\"hovermode\":\"closest\",\"hoverlabel\":{\"align\":\"left\"},\"paper_bgcolor\":\"white\",\"plot_bgcolor\":\"#E5ECF6\",\"polar\":{\"bgcolor\":\"#E5ECF6\",\"angularaxis\":{\"gridcolor\":\"white\",\"linecolor\":\"white\",\"ticks\":\"\"},\"radialaxis\":{\"gridcolor\":\"white\",\"linecolor\":\"white\",\"ticks\":\"\"}},\"ternary\":{\"bgcolor\":\"#E5ECF6\",\"aaxis\":{\"gridcolor\":\"white\",\"linecolor\":\"white\",\"ticks\":\"\"},\"baxis\":{\"gridcolor\":\"white\",\"linecolor\":\"white\",\"ticks\":\"\"},\"caxis\":{\"gridcolor\":\"white\",\"linecolor\":\"white\",\"ticks\":\"\"}},\"coloraxis\":{\"colorbar\":{\"outlinewidth\":0,\"ticks\":\"\"}},\"colorscale\":{\"sequential\":[[0.0,\"#0d0887\"],[0.1111111111111111,\"#46039f\"],[0.2222222222222222,\"#7201a8\"],[0.3333333333333333,\"#9c179e\"],[0.4444444444444444,\"#bd3786\"],[0.5555555555555556,\"#d8576b\"],[0.6666666666666666,\"#ed7953\"],[0.7777777777777778,\"#fb9f3a\"],[0.8888888888888888,\"#fdca26\"],[1.0,\"#f0f921\"]],\"sequentialminus\":[[0.0,\"#0d0887\"],[0.1111111111111111,\"#46039f\"],[0.2222222222222222,\"#7201a8\"],[0.3333333333333333,\"#9c179e\"],[0.4444444444444444,\"#bd3786\"],[0.5555555555555556,\"#d8576b\"],[0.6666666666666666,\"#ed7953\"],[0.7777777777777778,\"#fb9f3a\"],[0.8888888888888888,\"#fdca26\"],[1.0,\"#f0f921\"]],\"diverging\":[[0,\"#8e0152\"],[0.1,\"#c51b7d\"],[0.2,\"#de77ae\"],[0.3,\"#f1b6da\"],[0.4,\"#fde0ef\"],[0.5,\"#f7f7f7\"],[0.6,\"#e6f5d0\"],[0.7,\"#b8e186\"],[0.8,\"#7fbc41\"],[0.9,\"#4d9221\"],[1,\"#276419\"]]},\"xaxis\":{\"gridcolor\":\"white\",\"linecolor\":\"white\",\"ticks\":\"\",\"title\":{\"standoff\":15},\"zerolinecolor\":\"white\",\"automargin\":true,\"zerolinewidth\":2},\"yaxis\":{\"gridcolor\":\"white\",\"linecolor\":\"white\",\"ticks\":\"\",\"title\":{\"standoff\":15},\"zerolinecolor\":\"white\",\"automargin\":true,\"zerolinewidth\":2},\"scene\":{\"xaxis\":{\"backgroundcolor\":\"#E5ECF6\",\"gridcolor\":\"white\",\"linecolor\":\"white\",\"showbackground\":true,\"ticks\":\"\",\"zerolinecolor\":\"white\",\"gridwidth\":2},\"yaxis\":{\"backgroundcolor\":\"#E5ECF6\",\"gridcolor\":\"white\",\"linecolor\":\"white\",\"showbackground\":true,\"ticks\":\"\",\"zerolinecolor\":\"white\",\"gridwidth\":2},\"zaxis\":{\"backgroundcolor\":\"#E5ECF6\",\"gridcolor\":\"white\",\"linecolor\":\"white\",\"showbackground\":true,\"ticks\":\"\",\"zerolinecolor\":\"white\",\"gridwidth\":2}},\"shapedefaults\":{\"line\":{\"color\":\"#2a3f5f\"}},\"annotationdefaults\":{\"arrowcolor\":\"#2a3f5f\",\"arrowhead\":0,\"arrowwidth\":1},\"geo\":{\"bgcolor\":\"white\",\"landcolor\":\"#E5ECF6\",\"subunitcolor\":\"white\",\"showland\":true,\"showlakes\":true,\"lakecolor\":\"white\"},\"title\":{\"x\":0.05},\"mapbox\":{\"style\":\"light\"}}},\"title\":{\"text\":\"Correlation Matrix (Plotly)\"}},                        {\"responsive\": true}                    ).then(function(){\n",
       "                            \n",
       "var gd = document.getElementById('c36b9130-7c97-4aa6-95e9-88563988c7b2');\n",
       "var x = new MutationObserver(function (mutations, observer) {{\n",
       "        var display = window.getComputedStyle(gd).display;\n",
       "        if (!display || display === 'none') {{\n",
       "            console.log([gd, 'removed!']);\n",
       "            Plotly.purge(gd);\n",
       "            observer.disconnect();\n",
       "        }}\n",
       "}});\n",
       "\n",
       "// Listen for the removal of the full notebook cells\n",
       "var notebookContainer = gd.closest('#notebook-container');\n",
       "if (notebookContainer) {{\n",
       "    x.observe(notebookContainer, {childList: true});\n",
       "}}\n",
       "\n",
       "// Listen for the clearing of the current output cell\n",
       "var outputEl = gd.closest('.output');\n",
       "if (outputEl) {{\n",
       "    x.observe(outputEl, {childList: true});\n",
       "}}\n",
       "\n",
       "                        })                };                });            </script>        </div>"
      ]
     },
     "metadata": {},
     "output_type": "display_data"
    }
   ],
   "source": [
    "import plotly.figure_factory as ff\n",
    "\n",
    "# Round off values in correlation matrix to 2 decimal points\n",
    "correlation_matrix_rounded = correlation_matrix.round(2)\n",
    "\n",
    "# Convert index and columns to lists\n",
    "x = correlation_matrix_rounded.columns.tolist()\n",
    "y = correlation_matrix_rounded.index.tolist()\n",
    "\n",
    "# Create Plotly heatmap\n",
    "fig = ff.create_annotated_heatmap(z=correlation_matrix_rounded.values,\n",
    "                                   x=x,\n",
    "                                   y=y,\n",
    "                                   colorscale='Viridis')\n",
    "fig.update_layout(title_text='Correlation Matrix (Plotly)')\n",
    "fig.show()\n"
   ]
  },
  {
   "cell_type": "code",
   "execution_count": 37,
   "id": "5277fbf5",
   "metadata": {},
   "outputs": [],
   "source": [
    "\n",
    "# Option 4: Create a new feature to indicate missing values\n",
    "sbi['missing_flag'] = sbi.isnull().any(axis=1).astype(int)\n"
   ]
  },
  {
   "cell_type": "code",
   "execution_count": 38,
   "id": "5092a09a",
   "metadata": {},
   "outputs": [
    {
     "data": {
      "text/html": [
       "<div>\n",
       "<style scoped>\n",
       "    .dataframe tbody tr th:only-of-type {\n",
       "        vertical-align: middle;\n",
       "    }\n",
       "\n",
       "    .dataframe tbody tr th {\n",
       "        vertical-align: top;\n",
       "    }\n",
       "\n",
       "    .dataframe thead th {\n",
       "        text-align: right;\n",
       "    }\n",
       "</style>\n",
       "<table border=\"1\" class=\"dataframe\">\n",
       "  <thead>\n",
       "    <tr style=\"text-align: right;\">\n",
       "      <th></th>\n",
       "      <th>Date</th>\n",
       "      <th>Open</th>\n",
       "      <th>High</th>\n",
       "      <th>Low</th>\n",
       "      <th>Close</th>\n",
       "      <th>Adj Close</th>\n",
       "      <th>Volume</th>\n",
       "      <th>missing_flag</th>\n",
       "    </tr>\n",
       "  </thead>\n",
       "  <tbody>\n",
       "    <tr>\n",
       "      <th>0</th>\n",
       "      <td>2023-03-29</td>\n",
       "      <td>509.000000</td>\n",
       "      <td>518.000000</td>\n",
       "      <td>506.299988</td>\n",
       "      <td>516.500000</td>\n",
       "      <td>506.654419</td>\n",
       "      <td>24203789</td>\n",
       "      <td>0</td>\n",
       "    </tr>\n",
       "    <tr>\n",
       "      <th>1</th>\n",
       "      <td>2023-03-31</td>\n",
       "      <td>520.650024</td>\n",
       "      <td>524.900024</td>\n",
       "      <td>519.349976</td>\n",
       "      <td>523.750000</td>\n",
       "      <td>513.766235</td>\n",
       "      <td>17356345</td>\n",
       "      <td>0</td>\n",
       "    </tr>\n",
       "    <tr>\n",
       "      <th>2</th>\n",
       "      <td>2023-04-03</td>\n",
       "      <td>524.750000</td>\n",
       "      <td>528.500000</td>\n",
       "      <td>522.099976</td>\n",
       "      <td>526.750000</td>\n",
       "      <td>516.709045</td>\n",
       "      <td>14210949</td>\n",
       "      <td>0</td>\n",
       "    </tr>\n",
       "    <tr>\n",
       "      <th>3</th>\n",
       "      <td>2023-04-05</td>\n",
       "      <td>527.000000</td>\n",
       "      <td>527.599976</td>\n",
       "      <td>519.049988</td>\n",
       "      <td>523.000000</td>\n",
       "      <td>513.030518</td>\n",
       "      <td>13574801</td>\n",
       "      <td>0</td>\n",
       "    </tr>\n",
       "    <tr>\n",
       "      <th>4</th>\n",
       "      <td>2023-04-06</td>\n",
       "      <td>524.000000</td>\n",
       "      <td>533.700012</td>\n",
       "      <td>521.650024</td>\n",
       "      <td>527.650024</td>\n",
       "      <td>517.591919</td>\n",
       "      <td>25125879</td>\n",
       "      <td>0</td>\n",
       "    </tr>\n",
       "    <tr>\n",
       "      <th>...</th>\n",
       "      <td>...</td>\n",
       "      <td>...</td>\n",
       "      <td>...</td>\n",
       "      <td>...</td>\n",
       "      <td>...</td>\n",
       "      <td>...</td>\n",
       "      <td>...</td>\n",
       "      <td>...</td>\n",
       "    </tr>\n",
       "    <tr>\n",
       "      <th>240</th>\n",
       "      <td>2024-03-21</td>\n",
       "      <td>742.000000</td>\n",
       "      <td>750.599976</td>\n",
       "      <td>740.549988</td>\n",
       "      <td>744.299988</td>\n",
       "      <td>744.299988</td>\n",
       "      <td>15161161</td>\n",
       "      <td>0</td>\n",
       "    </tr>\n",
       "    <tr>\n",
       "      <th>241</th>\n",
       "      <td>2024-03-22</td>\n",
       "      <td>743.849976</td>\n",
       "      <td>748.799988</td>\n",
       "      <td>741.400024</td>\n",
       "      <td>746.700012</td>\n",
       "      <td>746.700012</td>\n",
       "      <td>15535921</td>\n",
       "      <td>0</td>\n",
       "    </tr>\n",
       "    <tr>\n",
       "      <th>242</th>\n",
       "      <td>2024-03-26</td>\n",
       "      <td>743.049988</td>\n",
       "      <td>747.849976</td>\n",
       "      <td>738.500000</td>\n",
       "      <td>740.049988</td>\n",
       "      <td>740.049988</td>\n",
       "      <td>14678342</td>\n",
       "      <td>0</td>\n",
       "    </tr>\n",
       "    <tr>\n",
       "      <th>243</th>\n",
       "      <td>2024-03-27</td>\n",
       "      <td>743.000000</td>\n",
       "      <td>745.849976</td>\n",
       "      <td>730.200012</td>\n",
       "      <td>733.299988</td>\n",
       "      <td>733.299988</td>\n",
       "      <td>30088789</td>\n",
       "      <td>0</td>\n",
       "    </tr>\n",
       "    <tr>\n",
       "      <th>244</th>\n",
       "      <td>2024-03-28</td>\n",
       "      <td>737.750000</td>\n",
       "      <td>759.549988</td>\n",
       "      <td>736.900024</td>\n",
       "      <td>752.349976</td>\n",
       "      <td>752.349976</td>\n",
       "      <td>21705116</td>\n",
       "      <td>0</td>\n",
       "    </tr>\n",
       "  </tbody>\n",
       "</table>\n",
       "<p>245 rows × 8 columns</p>\n",
       "</div>"
      ],
      "text/plain": [
       "           Date        Open        High         Low       Close   Adj Close  \\\n",
       "0    2023-03-29  509.000000  518.000000  506.299988  516.500000  506.654419   \n",
       "1    2023-03-31  520.650024  524.900024  519.349976  523.750000  513.766235   \n",
       "2    2023-04-03  524.750000  528.500000  522.099976  526.750000  516.709045   \n",
       "3    2023-04-05  527.000000  527.599976  519.049988  523.000000  513.030518   \n",
       "4    2023-04-06  524.000000  533.700012  521.650024  527.650024  517.591919   \n",
       "..          ...         ...         ...         ...         ...         ...   \n",
       "240  2024-03-21  742.000000  750.599976  740.549988  744.299988  744.299988   \n",
       "241  2024-03-22  743.849976  748.799988  741.400024  746.700012  746.700012   \n",
       "242  2024-03-26  743.049988  747.849976  738.500000  740.049988  740.049988   \n",
       "243  2024-03-27  743.000000  745.849976  730.200012  733.299988  733.299988   \n",
       "244  2024-03-28  737.750000  759.549988  736.900024  752.349976  752.349976   \n",
       "\n",
       "       Volume  missing_flag  \n",
       "0    24203789             0  \n",
       "1    17356345             0  \n",
       "2    14210949             0  \n",
       "3    13574801             0  \n",
       "4    25125879             0  \n",
       "..        ...           ...  \n",
       "240  15161161             0  \n",
       "241  15535921             0  \n",
       "242  14678342             0  \n",
       "243  30088789             0  \n",
       "244  21705116             0  \n",
       "\n",
       "[245 rows x 8 columns]"
      ]
     },
     "execution_count": 38,
     "metadata": {},
     "output_type": "execute_result"
    }
   ],
   "source": [
    "sbi"
   ]
  },
  {
   "cell_type": "code",
   "execution_count": 39,
   "id": "c44f6155",
   "metadata": {},
   "outputs": [
    {
     "name": "stdout",
     "output_type": "stream",
     "text": [
      "Shape of original data: (245, 8)\n",
      "Shape of imputed data (after imputing with median): (245, 8)\n"
     ]
    }
   ],
   "source": [
    "\n",
    "# Verify the changes\n",
    "print(\"Shape of original data:\", sbi.shape)\n",
    "print(\"Shape of imputed data (after imputing with median):\", sbi.shape)\n"
   ]
  },
  {
   "cell_type": "markdown",
   "id": "79f41094",
   "metadata": {},
   "source": [
    "## Data Consistency"
   ]
  },
  {
   "cell_type": "code",
   "execution_count": 40,
   "id": "65489974",
   "metadata": {},
   "outputs": [
    {
     "name": "stdout",
     "output_type": "stream",
     "text": [
      "NO Incorrect date format detected in the dataset.\n"
     ]
    }
   ],
   "source": [
    "# Checking that all dates are in the correct format\n",
    "if not sbi['Date'].str.match('\\d{4}-\\d{2}-\\d{2}').all():\n",
    "    print(\"Incorrect date format detected in the dataset.\")\n",
    "else: \n",
    "    print(\"NO Incorrect date format detected in the dataset.\")"
   ]
  },
  {
   "cell_type": "code",
   "execution_count": 41,
   "id": "890e2f90",
   "metadata": {},
   "outputs": [
    {
     "name": "stdout",
     "output_type": "stream",
     "text": [
      "NO Negative volume detected in the dataset.\n"
     ]
    }
   ],
   "source": [
    "# Checking that the volume of shares traded is not negative\n",
    "if (sbi['Volume'] < 0).any():\n",
    "    print(\"Negative volume detected in the dataset.\")\n",
    "else: \n",
    "    print(\"NO Negative volume detected in the dataset.\")"
   ]
  },
  {
   "cell_type": "markdown",
   "id": "a957940a",
   "metadata": {},
   "source": [
    "## Normalising"
   ]
  },
  {
   "cell_type": "code",
   "execution_count": 42,
   "id": "66dfca01",
   "metadata": {},
   "outputs": [],
   "source": [
    "# normalizing the close and volume columns\n",
    "sbi['Close'] = (sbi['Close'] - sbi['Close'].mean()) / sbi['Close'].std()\n",
    "sbi['Volume'] = (sbi['Volume'] - sbi['Volume'].mean()) / sbi['Volume'].std()"
   ]
  },
  {
   "cell_type": "markdown",
   "id": "73fd6ab6",
   "metadata": {},
   "source": [
    "## Outliers"
   ]
  },
  {
   "cell_type": "code",
   "execution_count": 43,
   "id": "57209fe8",
   "metadata": {},
   "outputs": [
    {
     "data": {
      "image/png": "[encoded data removed]",
      "text/plain": [
       "<Figure size 1500x1000 with 7 Axes>"
      ]
     },
     "metadata": {},
     "output_type": "display_data"
    }
   ],
   "source": [
    "import seaborn as sns\n",
    "\n",
    "# Set a larger figure size\n",
    "plt.figure(figsize=(15, 10))\n",
    "\n",
    "# Exclude non-numeric columns\n",
    "numeric_data = sbi.select_dtypes(include=[np.number])\n",
    "\n",
    "# Calculate number of subplots needed\n",
    "num_plots = len(numeric_data.columns)\n",
    "\n",
    "# Determine the number of rows and columns for subplots\n",
    "rows = (num_plots + 2) // 3  # Ensure there are at least 3 columns\n",
    "cols = min(num_plots, 3)\n",
    "\n",
    "# Iterate through each numeric column\n",
    "for i, column in enumerate(numeric_data.columns):\n",
    "    # Create a boxen plot for each numeric column\n",
    "    plt.subplot(rows, cols, i + 1)\n",
    "    sns.boxenplot(data=numeric_data[column], color='skyblue')\n",
    "    plt.title(f\"Outliers in {column}\")\n",
    "\n",
    "# Adjust layout\n",
    "plt.tight_layout()\n",
    "plt.show()\n"
   ]
  },
  {
   "cell_type": "code",
   "execution_count": 70,
   "id": "1f24ffcb",
   "metadata": {},
   "outputs": [
    {
     "data": {
      "image/png": "[encoded data removed]",
      "text/plain": [
       "<Figure size 1500x1000 with 6 Axes>"
      ]
     },
     "metadata": {},
     "output_type": "display_data"
    }
   ],
   "source": [
    "import seaborn as sns\n",
    "\n",
    "# Set a larger figure size\n",
    "plt.figure(figsize=(15, 10))\n",
    "\n",
    "# Exclude non-numeric columns\n",
    "numeric_data = tcs.select_dtypes(include=[np.number])\n",
    "\n",
    "# Calculate number of subplots needed\n",
    "num_plots = len(numeric_data.columns)\n",
    "\n",
    "# Determine the number of rows and columns for subplots\n",
    "rows = (num_plots + 2) // 3  # Ensure there are at least 3 columns\n",
    "cols = min(num_plots, 3)\n",
    "\n",
    "# Iterate through each numeric column\n",
    "for i, column in enumerate(numeric_data.columns):\n",
    "    # Create a boxen plot for each numeric column\n",
    "    plt.subplot(rows, cols, i + 1)\n",
    "    sns.boxenplot(data=numeric_data[column], color='skyblue')\n",
    "    plt.title(f\"Outliers in {column}\")\n",
    "\n",
    "# Adjust layout\n",
    "plt.tight_layout()\n",
    "plt.show()\n"
   ]
  },
  {
   "cell_type": "code",
   "execution_count": 71,
   "id": "ba2a1d9d",
   "metadata": {},
   "outputs": [
    {
     "data": {
      "image/png": "[encoded data removed]",
      "text/plain": [
       "<Figure size 1500x1000 with 6 Axes>"
      ]
     },
     "metadata": {},
     "output_type": "display_data"
    }
   ],
   "source": [
    "import seaborn as sns\n",
    "\n",
    "# Set a larger figure size\n",
    "plt.figure(figsize=(15, 10))\n",
    "\n",
    "# Exclude non-numeric columns\n",
    "numeric_data = mm.select_dtypes(include=[np.number])\n",
    "\n",
    "# Calculate number of subplots needed\n",
    "num_plots = len(numeric_data.columns)\n",
    "\n",
    "# Determine the number of rows and columns for subplots\n",
    "rows = (num_plots + 2) // 3  # Ensure there are at least 3 columns\n",
    "cols = min(num_plots, 3)\n",
    "\n",
    "# Iterate through each numeric column\n",
    "for i, column in enumerate(numeric_data.columns):\n",
    "    # Create a boxen plot for each numeric column\n",
    "    plt.subplot(rows, cols, i + 1)\n",
    "    sns.boxenplot(data=numeric_data[column], color='skyblue')\n",
    "    plt.title(f\"Outliers in {column}\")\n",
    "\n",
    "# Adjust layout\n",
    "plt.tight_layout()\n",
    "plt.show()\n"
   ]
  },
  {
   "cell_type": "code",
   "execution_count": 72,
   "id": "d13e507a",
   "metadata": {},
   "outputs": [
    {
     "data": {
      "image/png": "[encoded data removed]",
      "text/plain": [
       "<Figure size 1500x1000 with 6 Axes>"
      ]
     },
     "metadata": {},
     "output_type": "display_data"
    }
   ],
   "source": [
    "import seaborn as sns\n",
    "\n",
    "# Set a larger figure size\n",
    "plt.figure(figsize=(15, 10))\n",
    "\n",
    "# Exclude non-numeric columns\n",
    "numeric_data = zom.select_dtypes(include=[np.number])\n",
    "\n",
    "# Calculate number of subplots needed\n",
    "num_plots = len(numeric_data.columns)\n",
    "\n",
    "# Determine the number of rows and columns for subplots\n",
    "rows = (num_plots + 2) // 3  # Ensure there are at least 3 columns\n",
    "cols = min(num_plots, 3)\n",
    "\n",
    "# Iterate through each numeric column\n",
    "for i, column in enumerate(numeric_data.columns):\n",
    "    # Create a boxen plot for each numeric column\n",
    "    plt.subplot(rows, cols, i + 1)\n",
    "    sns.boxenplot(data=numeric_data[column], color='skyblue')\n",
    "    plt.title(f\"Outliers in {column}\")\n",
    "\n",
    "# Adjust layout\n",
    "plt.tight_layout()\n",
    "plt.show()\n"
   ]
  },
  {
   "cell_type": "code",
   "execution_count": null,
   "id": "3a56201c",
   "metadata": {},
   "outputs": [],
   "source": []
  }
 ],
 "metadata": {
  "kernelspec": {
   "display_name": "Python 3 (ipykernel)",
   "language": "python",
   "name": "python3"
  },
  "language_info": {
   "codemirror_mode": {
    "name": "ipython",
    "version": 3
   },
   "file_extension": ".py",
   "mimetype": "text/x-python",
   "name": "python",
   "nbconvert_exporter": "python",
   "pygments_lexer": "ipython3",
   "version": "3.11.5"
  }
 },
 "nbformat": 4,
 "nbformat_minor": 5
}
